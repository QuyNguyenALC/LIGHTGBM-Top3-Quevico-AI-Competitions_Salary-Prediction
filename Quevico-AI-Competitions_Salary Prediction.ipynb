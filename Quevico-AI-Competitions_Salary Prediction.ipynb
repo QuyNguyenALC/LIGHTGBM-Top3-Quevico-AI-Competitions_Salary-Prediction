{
 "cells": [
  {
   "cell_type": "markdown",
   "metadata": {},
   "source": [
    "# Imports libraries"
   ]
  },
  {
   "cell_type": "code",
   "execution_count": 385,
   "metadata": {},
   "outputs": [],
   "source": [
    "# numpy and pandas for data manipulation\n",
    "import numpy as np\n",
    "import pandas as pd \n",
    "# sklearn preprocessing for dealing with categorical variables\n",
    "from sklearn.preprocessing import LabelEncoder, StandardScaler\n",
    "from sklearn.impute import SimpleImputer #process null values\n",
    "from sklearn.linear_model import Lasso\n",
    "from sklearn.metrics import mean_squared_error\n",
    "from sklearn.model_selection import train_test_split\n",
    "import lightgbm as lgb\n",
    "# system\n",
    "import itertools\n",
    "# matplotlib and seaborn for plotting\n",
    "from sklearn.model_selection import StratifiedKFold, GridSearchCV\n",
    "import matplotlib.pyplot as plt\n",
    "import numpy as np\n",
    "#import seaborn as sns"
   ]
  },
  {
   "cell_type": "markdown",
   "metadata": {},
   "source": [
    "# Read in data"
   ]
  },
  {
   "cell_type": "markdown",
   "metadata": {},
   "source": [
    "### Load all datasets"
   ]
  },
  {
   "cell_type": "code",
   "execution_count": 386,
   "metadata": {},
   "outputs": [
    {
     "name": "stdout",
     "output_type": "stream",
     "text": [
      "(129, 2)\n"
     ]
    },
    {
     "data": {
      "text/html": [
       "<div>\n",
       "<style scoped>\n",
       "    .dataframe tbody tr th:only-of-type {\n",
       "        vertical-align: middle;\n",
       "    }\n",
       "\n",
       "    .dataframe tbody tr th {\n",
       "        vertical-align: top;\n",
       "    }\n",
       "\n",
       "    .dataframe thead th {\n",
       "        text-align: right;\n",
       "    }\n",
       "</style>\n",
       "<table border=\"1\" class=\"dataframe\">\n",
       "  <thead>\n",
       "    <tr style=\"text-align: right;\">\n",
       "      <th></th>\n",
       "      <th>Column</th>\n",
       "      <th>QuestionText</th>\n",
       "    </tr>\n",
       "  </thead>\n",
       "  <tbody>\n",
       "    <tr>\n",
       "      <th>0</th>\n",
       "      <td>Respondent</td>\n",
       "      <td>Randomized respondent ID number (not in order ...</td>\n",
       "    </tr>\n",
       "    <tr>\n",
       "      <th>1</th>\n",
       "      <td>Hobby</td>\n",
       "      <td>Do you code as a hobby?</td>\n",
       "    </tr>\n",
       "    <tr>\n",
       "      <th>2</th>\n",
       "      <td>OpenSource</td>\n",
       "      <td>Do you contribute to open source projects?</td>\n",
       "    </tr>\n",
       "    <tr>\n",
       "      <th>3</th>\n",
       "      <td>Country</td>\n",
       "      <td>In which country do you currently reside?</td>\n",
       "    </tr>\n",
       "    <tr>\n",
       "      <th>4</th>\n",
       "      <td>Student</td>\n",
       "      <td>Are you currently enrolled in a formal, degree...</td>\n",
       "    </tr>\n",
       "  </tbody>\n",
       "</table>\n",
       "</div>"
      ],
      "text/plain": [
       "       Column                                       QuestionText\n",
       "0  Respondent  Randomized respondent ID number (not in order ...\n",
       "1       Hobby                            Do you code as a hobby?\n",
       "2  OpenSource         Do you contribute to open source projects?\n",
       "3     Country          In which country do you currently reside?\n",
       "4     Student  Are you currently enrolled in a formal, degree..."
      ]
     },
     "execution_count": 386,
     "metadata": {},
     "output_type": "execute_result"
    }
   ],
   "source": [
    "#View the question data\n",
    "question_data = pd.read_csv('data_all/question.csv')\n",
    "print(question_data.shape)\n",
    "question_data.head(5)\n"
   ]
  },
  {
   "cell_type": "code",
   "execution_count": 387,
   "metadata": {},
   "outputs": [],
   "source": [
    "#View the training data\n",
    "train_data = pd.read_csv('data_all/train.csv')\n",
    "#train_data.head(5)"
   ]
  },
  {
   "cell_type": "code",
   "execution_count": 388,
   "metadata": {},
   "outputs": [],
   "source": [
    "#View the test data\n",
    "test_data = pd.read_csv('data_all/test.csv')\n",
    "#test_data['SalaryType'] = test_data['SalaryType'].fillna('Yearly')\n",
    "#test_data.head(5)"
   ]
  },
  {
   "cell_type": "markdown",
   "metadata": {},
   "source": [
    "# Generate and mapping features by country"
   ]
  },
  {
   "cell_type": "code",
   "execution_count": 389,
   "metadata": {},
   "outputs": [
    {
     "name": "stderr",
     "output_type": "stream",
     "text": [
      "c:\\users\\gobiz\\appdata\\local\\programs\\python\\python37\\lib\\site-packages\\ipykernel_launcher.py:3: SettingWithCopyWarning: \n",
      "A value is trying to be set on a copy of a slice from a DataFrame.\n",
      "Try using .loc[row_indexer,col_indexer] = value instead\n",
      "\n",
      "See the caveats in the documentation: http://pandas.pydata.org/pandas-docs/stable/user_guide/indexing.html#returning-a-view-versus-a-copy\n",
      "  This is separate from the ipykernel package so we can avoid doing imports until\n",
      "c:\\users\\gobiz\\appdata\\local\\programs\\python\\python37\\lib\\site-packages\\ipykernel_launcher.py:4: SettingWithCopyWarning: \n",
      "A value is trying to be set on a copy of a slice from a DataFrame.\n",
      "Try using .loc[row_indexer,col_indexer] = value instead\n",
      "\n",
      "See the caveats in the documentation: http://pandas.pydata.org/pandas-docs/stable/user_guide/indexing.html#returning-a-view-versus-a-copy\n",
      "  after removing the cwd from sys.path.\n",
      "c:\\users\\gobiz\\appdata\\local\\programs\\python\\python37\\lib\\site-packages\\ipykernel_launcher.py:5: SettingWithCopyWarning: \n",
      "A value is trying to be set on a copy of a slice from a DataFrame.\n",
      "Try using .loc[row_indexer,col_indexer] = value instead\n",
      "\n",
      "See the caveats in the documentation: http://pandas.pydata.org/pandas-docs/stable/user_guide/indexing.html#returning-a-view-versus-a-copy\n",
      "  \"\"\"\n",
      "c:\\users\\gobiz\\appdata\\local\\programs\\python\\python37\\lib\\site-packages\\ipykernel_launcher.py:6: SettingWithCopyWarning: \n",
      "A value is trying to be set on a copy of a slice from a DataFrame.\n",
      "Try using .loc[row_indexer,col_indexer] = value instead\n",
      "\n",
      "See the caveats in the documentation: http://pandas.pydata.org/pandas-docs/stable/user_guide/indexing.html#returning-a-view-versus-a-copy\n",
      "  \n",
      "c:\\users\\gobiz\\appdata\\local\\programs\\python\\python37\\lib\\site-packages\\ipykernel_launcher.py:7: SettingWithCopyWarning: \n",
      "A value is trying to be set on a copy of a slice from a DataFrame.\n",
      "Try using .loc[row_indexer,col_indexer] = value instead\n",
      "\n",
      "See the caveats in the documentation: http://pandas.pydata.org/pandas-docs/stable/user_guide/indexing.html#returning-a-view-versus-a-copy\n",
      "  import sys\n"
     ]
    }
   ],
   "source": [
    "#Generate some features by country\n",
    "Gen_map_country=train_data[train_data['Salary']>0]\n",
    "Gen_map_country['avg_sal'] = Gen_map_country['Salary'].groupby(Gen_map_country['Country']).transform('mean')\n",
    "Gen_map_country['min_sal'] = Gen_map_country['Salary'].groupby(Gen_map_country['Country']).transform('min')\n",
    "Gen_map_country['max_sal'] = Gen_map_country['Salary'].groupby(Gen_map_country['Country']).transform('max')\n",
    "Gen_map_country['count_sal'] = Gen_map_country['No'].groupby(Gen_map_country['Country']).transform('count')\n",
    "Gen_map_country['mode_sal'] = Gen_map_country['Salary'].groupby(Gen_map_country['Country']).transform(lambda x:x.value_counts().index[0])"
   ]
  },
  {
   "cell_type": "code",
   "execution_count": 391,
   "metadata": {},
   "outputs": [],
   "source": [
    "#Create map for country\n",
    "Map_country=Gen_map_country[['Country','avg_sal','min_sal','max_sal','count_sal','mode_sal']]\n",
    "Salmap_country=Map_country.drop_duplicates()\n",
    "#Salmap"
   ]
  },
  {
   "cell_type": "code",
   "execution_count": 392,
   "metadata": {},
   "outputs": [],
   "source": [
    "#Mapping new gen features to train, test base on Country\n",
    "train_data=pd.merge(train_data,Salmap_country,on='Country',how='left')\n",
    "test_data=pd.merge(test_data,Salmap_country,on='Country',how='left')"
   ]
  },
  {
   "cell_type": "markdown",
   "metadata": {},
   "source": [
    "# Generate and mapping features by country"
   ]
  },
  {
   "cell_type": "code",
   "execution_count": 393,
   "metadata": {},
   "outputs": [
    {
     "name": "stderr",
     "output_type": "stream",
     "text": [
      "c:\\users\\gobiz\\appdata\\local\\programs\\python\\python37\\lib\\site-packages\\ipykernel_launcher.py:3: SettingWithCopyWarning: \n",
      "A value is trying to be set on a copy of a slice from a DataFrame.\n",
      "Try using .loc[row_indexer,col_indexer] = value instead\n",
      "\n",
      "See the caveats in the documentation: http://pandas.pydata.org/pandas-docs/stable/user_guide/indexing.html#returning-a-view-versus-a-copy\n",
      "  This is separate from the ipykernel package so we can avoid doing imports until\n",
      "c:\\users\\gobiz\\appdata\\local\\programs\\python\\python37\\lib\\site-packages\\ipykernel_launcher.py:4: SettingWithCopyWarning: \n",
      "A value is trying to be set on a copy of a slice from a DataFrame.\n",
      "Try using .loc[row_indexer,col_indexer] = value instead\n",
      "\n",
      "See the caveats in the documentation: http://pandas.pydata.org/pandas-docs/stable/user_guide/indexing.html#returning-a-view-versus-a-copy\n",
      "  after removing the cwd from sys.path.\n",
      "c:\\users\\gobiz\\appdata\\local\\programs\\python\\python37\\lib\\site-packages\\ipykernel_launcher.py:5: SettingWithCopyWarning: \n",
      "A value is trying to be set on a copy of a slice from a DataFrame.\n",
      "Try using .loc[row_indexer,col_indexer] = value instead\n",
      "\n",
      "See the caveats in the documentation: http://pandas.pydata.org/pandas-docs/stable/user_guide/indexing.html#returning-a-view-versus-a-copy\n",
      "  \"\"\"\n",
      "c:\\users\\gobiz\\appdata\\local\\programs\\python\\python37\\lib\\site-packages\\ipykernel_launcher.py:6: SettingWithCopyWarning: \n",
      "A value is trying to be set on a copy of a slice from a DataFrame.\n",
      "Try using .loc[row_indexer,col_indexer] = value instead\n",
      "\n",
      "See the caveats in the documentation: http://pandas.pydata.org/pandas-docs/stable/user_guide/indexing.html#returning-a-view-versus-a-copy\n",
      "  \n"
     ]
    }
   ],
   "source": [
    "#Generate some features by YearsCoding\n",
    "Gen_map_YearsCoding=train_data[train_data['Salary']>0]\n",
    "Gen_map_YearsCoding['avg_sal'] = Gen_map_YearsCoding['Salary'].groupby(Gen_map_YearsCoding['YearsCoding']).transform('mean')\n",
    "Gen_map_YearsCoding['min_sal'] = Gen_map_YearsCoding['Salary'].groupby(Gen_map_YearsCoding['YearsCoding']).transform('min')\n",
    "Gen_map_YearsCoding['max_sal'] = Gen_map_YearsCoding['Salary'].groupby(Gen_map_YearsCoding['YearsCoding']).transform('max')\n",
    "Gen_map_YearsCoding['count_sal'] = Gen_map_YearsCoding['No'].groupby(Gen_map_YearsCoding['YearsCoding']).transform('count')\n",
    "#Gen_map_YearsCoding['mode_sal'] = Gen_map_YearsCoding['Salary'].groupby(Gen_map_YearsCoding['YearsCoding']).transform(lambda x:x.value_counts().index[0])"
   ]
  },
  {
   "cell_type": "code",
   "execution_count": 394,
   "metadata": {},
   "outputs": [],
   "source": [
    "#Create map for year coding\n",
    "Map_Yearscoding=Gen_map_YearsCoding[['YearsCoding','avg_sal','min_sal','max_sal','count_sal']]\n",
    "Salmap_Yearscoding=Map_Yearscoding.drop_duplicates()\n",
    "#Salmap"
   ]
  },
  {
   "cell_type": "code",
   "execution_count": 395,
   "metadata": {},
   "outputs": [],
   "source": [
    "#Mapping new gen features to train, test base on Yearscoding\n",
    "train_data=pd.merge(train_data,Salmap_Yearscoding,on='YearsCoding',how='left')\n",
    "test_data=pd.merge(test_data,Salmap_Yearscoding,on='YearsCoding',how='left')"
   ]
  },
  {
   "cell_type": "markdown",
   "metadata": {},
   "source": [
    "# Generate some features by RaceEthnicity"
   ]
  },
  {
   "cell_type": "code",
   "execution_count": 396,
   "metadata": {},
   "outputs": [
    {
     "name": "stderr",
     "output_type": "stream",
     "text": [
      "c:\\users\\gobiz\\appdata\\local\\programs\\python\\python37\\lib\\site-packages\\ipykernel_launcher.py:3: SettingWithCopyWarning: \n",
      "A value is trying to be set on a copy of a slice from a DataFrame.\n",
      "Try using .loc[row_indexer,col_indexer] = value instead\n",
      "\n",
      "See the caveats in the documentation: http://pandas.pydata.org/pandas-docs/stable/user_guide/indexing.html#returning-a-view-versus-a-copy\n",
      "  This is separate from the ipykernel package so we can avoid doing imports until\n",
      "c:\\users\\gobiz\\appdata\\local\\programs\\python\\python37\\lib\\site-packages\\ipykernel_launcher.py:4: SettingWithCopyWarning: \n",
      "A value is trying to be set on a copy of a slice from a DataFrame.\n",
      "Try using .loc[row_indexer,col_indexer] = value instead\n",
      "\n",
      "See the caveats in the documentation: http://pandas.pydata.org/pandas-docs/stable/user_guide/indexing.html#returning-a-view-versus-a-copy\n",
      "  after removing the cwd from sys.path.\n",
      "c:\\users\\gobiz\\appdata\\local\\programs\\python\\python37\\lib\\site-packages\\ipykernel_launcher.py:5: SettingWithCopyWarning: \n",
      "A value is trying to be set on a copy of a slice from a DataFrame.\n",
      "Try using .loc[row_indexer,col_indexer] = value instead\n",
      "\n",
      "See the caveats in the documentation: http://pandas.pydata.org/pandas-docs/stable/user_guide/indexing.html#returning-a-view-versus-a-copy\n",
      "  \"\"\"\n",
      "c:\\users\\gobiz\\appdata\\local\\programs\\python\\python37\\lib\\site-packages\\ipykernel_launcher.py:6: SettingWithCopyWarning: \n",
      "A value is trying to be set on a copy of a slice from a DataFrame.\n",
      "Try using .loc[row_indexer,col_indexer] = value instead\n",
      "\n",
      "See the caveats in the documentation: http://pandas.pydata.org/pandas-docs/stable/user_guide/indexing.html#returning-a-view-versus-a-copy\n",
      "  \n"
     ]
    }
   ],
   "source": [
    "#Generate some features by RaceEthnicity\n",
    "Gen_map_RaceEthnicity=train_data[train_data['Salary']>0]\n",
    "Gen_map_RaceEthnicity['avg_sal'] = Gen_map_RaceEthnicity['Salary'].groupby(Gen_map_RaceEthnicity['RaceEthnicity']).transform('mean')\n",
    "Gen_map_RaceEthnicity['min_sal'] = Gen_map_RaceEthnicity['Salary'].groupby(Gen_map_RaceEthnicity['RaceEthnicity']).transform('min')\n",
    "Gen_map_RaceEthnicity['max_sal'] = Gen_map_RaceEthnicity['Salary'].groupby(Gen_map_RaceEthnicity['RaceEthnicity']).transform('max')\n",
    "Gen_map_RaceEthnicity['count_sal'] = Gen_map_RaceEthnicity['No'].groupby(Gen_map_RaceEthnicity['RaceEthnicity']).transform('count')\n",
    "#Gen_map_YearsCoding['mode_sal'] = Gen_map_YearsCoding['Salary'].groupby(Gen_map_YearsCoding['YearsCoding']).transform(lambda x:x.value_counts().index[0])"
   ]
  },
  {
   "cell_type": "code",
   "execution_count": 397,
   "metadata": {},
   "outputs": [],
   "source": [
    "#Create map for RaceEthnicity\n",
    "Map_RaceEthnicity=Gen_map_RaceEthnicity[['RaceEthnicity','avg_sal','min_sal','max_sal','count_sal']]\n",
    "Salmap_RaceEthnicity=Map_RaceEthnicity.drop_duplicates()\n",
    "#Salmap"
   ]
  },
  {
   "cell_type": "code",
   "execution_count": 398,
   "metadata": {},
   "outputs": [],
   "source": [
    "#Mapping new gen features to train, test base on RaceEthnicity\n",
    "train_data=pd.merge(train_data,Salmap_RaceEthnicity,on='RaceEthnicity',how='left')\n",
    "test_data=pd.merge(test_data,Salmap_RaceEthnicity,on='RaceEthnicity',how='left')"
   ]
  },
  {
   "cell_type": "code",
   "execution_count": 399,
   "metadata": {},
   "outputs": [
    {
     "name": "stdout",
     "output_type": "stream",
     "text": [
      "(11259, 140)\n",
      "(33857, 141)\n"
     ]
    }
   ],
   "source": [
    "print(test_data.shape)\n",
    "print(train_data.shape)"
   ]
  },
  {
   "cell_type": "markdown",
   "metadata": {},
   "source": [
    "### Examine the distribution of target data"
   ]
  },
  {
   "cell_type": "code",
   "execution_count": 400,
   "metadata": {},
   "outputs": [],
   "source": [
    "target = train_data['Salary'].astype(int)"
   ]
  },
  {
   "cell_type": "markdown",
   "metadata": {},
   "source": [
    "### Examine the missing values on training data"
   ]
  },
  {
   "cell_type": "code",
   "execution_count": 401,
   "metadata": {},
   "outputs": [],
   "source": [
    "# Function to calculate missing values by column# Funct \n",
    "def missing_values_table(df):\n",
    "        # Total missing values\n",
    "        mis_val = df.isnull().sum()\n",
    "        \n",
    "        # Percentage of missing values\n",
    "        mis_val_percent = 100 * df.isnull().sum() / len(df)\n",
    "        \n",
    "        # Make a table with the results\n",
    "        mis_val_table = pd.concat([mis_val, mis_val_percent], axis=1)\n",
    "        \n",
    "        # Rename the columns\n",
    "        mis_val_table_ren_columns = mis_val_table.rename(\n",
    "        columns = {0 : 'Missing Values', 1 : '% of Total Values'})\n",
    "        \n",
    "        # Sort the table by percentage of missing descending\n",
    "        mis_val_table_ren_columns = mis_val_table_ren_columns[\n",
    "            mis_val_table_ren_columns.iloc[:,1] != 0].sort_values(\n",
    "        '% of Total Values', ascending=False).round(1)\n",
    "        \n",
    "        # Print some summary information\n",
    "        print (\"Your selected dataframe has \" + str(df.shape[1]) + \" columns.\\n\"      \n",
    "            \"There are \" + str(mis_val_table_ren_columns.shape[0]) +\n",
    "              \" columns that have missing values.\")\n",
    "        \n",
    "        # Return the dataframe with missing information\n",
    "        return mis_val_table_ren_columns"
   ]
  },
  {
   "cell_type": "code",
   "execution_count": 402,
   "metadata": {},
   "outputs": [
    {
     "name": "stdout",
     "output_type": "stream",
     "text": [
      "Your selected dataframe has 141 columns.\n",
      "There are 135 columns that have missing values.\n"
     ]
    },
    {
     "data": {
      "text/html": [
       "<div>\n",
       "<style scoped>\n",
       "    .dataframe tbody tr th:only-of-type {\n",
       "        vertical-align: middle;\n",
       "    }\n",
       "\n",
       "    .dataframe tbody tr th {\n",
       "        vertical-align: top;\n",
       "    }\n",
       "\n",
       "    .dataframe thead th {\n",
       "        text-align: right;\n",
       "    }\n",
       "</style>\n",
       "<table border=\"1\" class=\"dataframe\">\n",
       "  <thead>\n",
       "    <tr style=\"text-align: right;\">\n",
       "      <th></th>\n",
       "      <th>Missing Values</th>\n",
       "      <th>% of Total Values</th>\n",
       "    </tr>\n",
       "  </thead>\n",
       "  <tbody>\n",
       "    <tr>\n",
       "      <th>TimeAfterBootcamp</th>\n",
       "      <td>30638</td>\n",
       "      <td>90.5</td>\n",
       "    </tr>\n",
       "    <tr>\n",
       "      <th>MilitaryUS</th>\n",
       "      <td>25092</td>\n",
       "      <td>74.1</td>\n",
       "    </tr>\n",
       "    <tr>\n",
       "      <th>HackathonReasons</th>\n",
       "      <td>20939</td>\n",
       "      <td>61.8</td>\n",
       "    </tr>\n",
       "    <tr>\n",
       "      <th>ErgonomicDevices</th>\n",
       "      <td>18628</td>\n",
       "      <td>55.0</td>\n",
       "    </tr>\n",
       "    <tr>\n",
       "      <th>AdBlockerReasons</th>\n",
       "      <td>16431</td>\n",
       "      <td>48.5</td>\n",
       "    </tr>\n",
       "    <tr>\n",
       "      <th>StackOverflowJobsRecommend</th>\n",
       "      <td>15239</td>\n",
       "      <td>45.0</td>\n",
       "    </tr>\n",
       "    <tr>\n",
       "      <th>JobEmailPriorities2</th>\n",
       "      <td>10841</td>\n",
       "      <td>32.0</td>\n",
       "    </tr>\n",
       "    <tr>\n",
       "      <th>JobEmailPriorities7</th>\n",
       "      <td>10841</td>\n",
       "      <td>32.0</td>\n",
       "    </tr>\n",
       "    <tr>\n",
       "      <th>JobEmailPriorities6</th>\n",
       "      <td>10841</td>\n",
       "      <td>32.0</td>\n",
       "    </tr>\n",
       "    <tr>\n",
       "      <th>JobEmailPriorities5</th>\n",
       "      <td>10841</td>\n",
       "      <td>32.0</td>\n",
       "    </tr>\n",
       "  </tbody>\n",
       "</table>\n",
       "</div>"
      ],
      "text/plain": [
       "                            Missing Values  % of Total Values\n",
       "TimeAfterBootcamp                    30638               90.5\n",
       "MilitaryUS                           25092               74.1\n",
       "HackathonReasons                     20939               61.8\n",
       "ErgonomicDevices                     18628               55.0\n",
       "AdBlockerReasons                     16431               48.5\n",
       "StackOverflowJobsRecommend           15239               45.0\n",
       "JobEmailPriorities2                  10841               32.0\n",
       "JobEmailPriorities7                  10841               32.0\n",
       "JobEmailPriorities6                  10841               32.0\n",
       "JobEmailPriorities5                  10841               32.0"
      ]
     },
     "execution_count": 402,
     "metadata": {},
     "output_type": "execute_result"
    }
   ],
   "source": [
    "missing_values = missing_values_table(train_data)\n",
    "missing_values.head(10)"
   ]
  },
  {
   "cell_type": "code",
   "execution_count": 403,
   "metadata": {},
   "outputs": [],
   "source": [
    "missing_row_values = train_data.isnull().sum(axis=1)\n",
    "missing_row_percentage = 100*missing_row_values/(train_data.shape[1]-1)"
   ]
  },
  {
   "cell_type": "code",
   "execution_count": 404,
   "metadata": {},
   "outputs": [],
   "source": [
    "missing_row_df = pd.concat([missing_row_values,missing_row_percentage],axis=1)"
   ]
  },
  {
   "cell_type": "code",
   "execution_count": 405,
   "metadata": {},
   "outputs": [],
   "source": [
    "missing_row_df_ren = missing_row_df.rename(\n",
    "        columns = {0 : 'Missing Values', 1 : '% of Total Values'})"
   ]
  },
  {
   "cell_type": "code",
   "execution_count": 406,
   "metadata": {},
   "outputs": [
    {
     "data": {
      "text/html": [
       "<div>\n",
       "<style scoped>\n",
       "    .dataframe tbody tr th:only-of-type {\n",
       "        vertical-align: middle;\n",
       "    }\n",
       "\n",
       "    .dataframe tbody tr th {\n",
       "        vertical-align: top;\n",
       "    }\n",
       "\n",
       "    .dataframe thead th {\n",
       "        text-align: right;\n",
       "    }\n",
       "</style>\n",
       "<table border=\"1\" class=\"dataframe\">\n",
       "  <thead>\n",
       "    <tr style=\"text-align: right;\">\n",
       "      <th></th>\n",
       "      <th>Missing Values</th>\n",
       "      <th>% of Total Values</th>\n",
       "    </tr>\n",
       "  </thead>\n",
       "  <tbody>\n",
       "    <tr>\n",
       "      <th>28179</th>\n",
       "      <td>111</td>\n",
       "      <td>79.3</td>\n",
       "    </tr>\n",
       "    <tr>\n",
       "      <th>15718</th>\n",
       "      <td>111</td>\n",
       "      <td>79.3</td>\n",
       "    </tr>\n",
       "    <tr>\n",
       "      <th>23584</th>\n",
       "      <td>111</td>\n",
       "      <td>79.3</td>\n",
       "    </tr>\n",
       "    <tr>\n",
       "      <th>23209</th>\n",
       "      <td>110</td>\n",
       "      <td>78.6</td>\n",
       "    </tr>\n",
       "    <tr>\n",
       "      <th>2173</th>\n",
       "      <td>110</td>\n",
       "      <td>78.6</td>\n",
       "    </tr>\n",
       "    <tr>\n",
       "      <th>22301</th>\n",
       "      <td>110</td>\n",
       "      <td>78.6</td>\n",
       "    </tr>\n",
       "    <tr>\n",
       "      <th>15283</th>\n",
       "      <td>109</td>\n",
       "      <td>77.9</td>\n",
       "    </tr>\n",
       "    <tr>\n",
       "      <th>11628</th>\n",
       "      <td>109</td>\n",
       "      <td>77.9</td>\n",
       "    </tr>\n",
       "    <tr>\n",
       "      <th>32908</th>\n",
       "      <td>109</td>\n",
       "      <td>77.9</td>\n",
       "    </tr>\n",
       "    <tr>\n",
       "      <th>22234</th>\n",
       "      <td>108</td>\n",
       "      <td>77.1</td>\n",
       "    </tr>\n",
       "  </tbody>\n",
       "</table>\n",
       "</div>"
      ],
      "text/plain": [
       "       Missing Values  % of Total Values\n",
       "28179             111               79.3\n",
       "15718             111               79.3\n",
       "23584             111               79.3\n",
       "23209             110               78.6\n",
       "2173              110               78.6\n",
       "22301             110               78.6\n",
       "15283             109               77.9\n",
       "11628             109               77.9\n",
       "32908             109               77.9\n",
       "22234             108               77.1"
      ]
     },
     "execution_count": 406,
     "metadata": {},
     "output_type": "execute_result"
    }
   ],
   "source": [
    "missing_row_df_ren[missing_row_df_ren.iloc[:,1]!=0].sort_values(\n",
    "        '% of Total Values', ascending=False).round(1).head(10)"
   ]
  },
  {
   "cell_type": "markdown",
   "metadata": {},
   "source": [
    "## Column types"
   ]
  },
  {
   "cell_type": "markdown",
   "metadata": {},
   "source": [
    "Convert some category columns to numeric"
   ]
  },
  {
   "cell_type": "code",
   "execution_count": 407,
   "metadata": {},
   "outputs": [],
   "source": [
    "train_data[\"YearsCoding_convert\"] = train_data[\"YearsCoding\"].map( {'0-2 years': 1, '3-5 years': 4,'6-8 years': 7, \n",
    "                                                            '9-11 years': 10, '12-14 years': 13, '15-17 years': 16,\n",
    "                                                           '18-20 years': 19, '21-23 years': 22, '24-26 years': 25,\n",
    "                                                           '27-29 years': 28, '30 or more years': 30})\n",
    "test_data[\"YearsCoding_convert\"] = test_data[\"YearsCoding\"].map( {'0-2 years': 1, '3-5 years': 4,'6-8 years': 7, \n",
    "                                                            '9-11 years': 10, '12-14 years': 13, '15-17 years': 16,\n",
    "                                                           '18-20 years': 19, '21-23 years': 22, '24-26 years': 25,\n",
    "                                                           '27-29 years': 28, '30 or more years': 30})"
   ]
  },
  {
   "cell_type": "code",
   "execution_count": 408,
   "metadata": {},
   "outputs": [],
   "source": [
    "train_data[\"YearsCodingProf_convert\"] = train_data[\"YearsCodingProf\"].map( {'0-2 years': 1, '3-5 years': 4,'6-8 years': 7, \n",
    "                                                            '9-11 years': 10, '12-14 years': 13, '15-17 years': 16,\n",
    "                                                           '18-20 years': 19, '21-23 years': 22, '24-26 years': 25,\n",
    "                                                           '27-29 years': 28, '30 or more years': 30})\n",
    "test_data[\"YearsCodingProf_convert\"] = test_data[\"YearsCodingProf\"].map( {'0-2 years': 1, '3-5 years': 4,'6-8 years': 7, \n",
    "                                                            '9-11 years': 10, '12-14 years': 13, '15-17 years': 16,\n",
    "                                                           '18-20 years': 19, '21-23 years': 22, '24-26 years': 25,\n",
    "                                                           '27-29 years': 28, '30 or more years': 30})"
   ]
  },
  {
   "cell_type": "code",
   "execution_count": 409,
   "metadata": {},
   "outputs": [],
   "source": [
    "train_data[\"StackOverflowRecommend_convert\"] = train_data[\"StackOverflowRecommend\"].map( {'10 (Very Likely)': 10,\n",
    "                                                                                  '0 (Not Likely)': 0})\n",
    "test_data[\"StackOverflowRecommend_convert\"] = test_data[\"StackOverflowRecommend\"].map( {'10 (Very Likely)': 10,\n",
    "                                                                                  '0 (Not Likely)': 0})"
   ]
  },
  {
   "cell_type": "code",
   "execution_count": 410,
   "metadata": {},
   "outputs": [],
   "source": [
    "train_data[\"StackOverflowJobsRecommend_convert\"] = train_data[\"StackOverflowJobsRecommend\"].map( {'10 (Very Likely)': 10,\n",
    "                                                                                  '0 (Not Likely)': 0})\n",
    "test_data[\"StackOverflowJobsRecommend_convert\"] = test_data[\"StackOverflowJobsRecommend\"].map( {'10 (Very Likely)': 10,\n",
    "                                                                                  '0 (Not Likely)': 0})"
   ]
  },
  {
   "cell_type": "code",
   "execution_count": 411,
   "metadata": {},
   "outputs": [],
   "source": [
    "train_data[\"HoursComputer_convert\"] = train_data[\"HoursComputer\"].map( {'1 - 4 hours': 3,'5 - 8 hours': 7,\n",
    "                                                               '9 - 12 hours': 11,'Over 12 hours': 14})\n",
    "test_data[\"HoursComputer_convert\"] = test_data[\"HoursComputer\"].map( {'1 - 4 hours': 3,'5 - 8 hours': 7,\n",
    "                                                               '9 - 12 hours': 11,'Over 12 hours': 14})"
   ]
  },
  {
   "cell_type": "code",
   "execution_count": 412,
   "metadata": {},
   "outputs": [],
   "source": [
    "train_data[\"HoursOutside_convert\"] = train_data[\"HoursOutside\"].map( {'Less than 30 minutes': 0.3,'30 - 59 minutes': 0.8,\n",
    "                                                               '1 - 2 hours': 1.5,'3 - 4 hours': 3.5, 'Over 4 hours': 5})\n",
    "test_data[\"HoursOutside_convert\"] = test_data[\"HoursOutside\"].map( {'Less than 30 minutes': 0.3,'30 - 59 minutes': 0.8,\n",
    "                                                               '1 - 2 hours': 1.5,'3 - 4 hours': 3.5, 'Over 4 hours': 5})"
   ]
  },
  {
   "cell_type": "code",
   "execution_count": 413,
   "metadata": {},
   "outputs": [],
   "source": [
    "train_data[\"Age_convert\"] = train_data[\"Age\"].map( {'18 - 24 years old': 21,'25 - 34 years old': 30,\n",
    "                                                               '35 - 44 years old': 40,'45 - 54 years old': 50})\n",
    "test_data[\"Age_convert\"] = test_data[\"Age\"].map( {'18 - 24 years old': 21,'25 - 34 years old': 30,\n",
    "                                                               '35 - 44 years old': 40,'45 - 54 years old': 50})"
   ]
  },
  {
   "cell_type": "code",
   "execution_count": 414,
   "metadata": {},
   "outputs": [],
   "source": [
    "train_data[\"TimeFullyProductive_convert\"] = train_data[\"TimeFullyProductive\"].map( {'Less than a month': 1,'One to three months': 3,\n",
    "                                                               'Six to nine months': 9,'Nine months to a year': 12,\n",
    "                                                                           'More than a year': 15, 'Three to six months':6})\n",
    "test_data[\"TimeFullyProductive_convert\"] = test_data[\"TimeFullyProductive\"].map( {'Less than a month': 1,'One to three months': 3,\n",
    "                                                               'Six to nine months': 9,'Nine months to a year': 12,\n",
    "                                                                           'More than a year': 15, 'Three to six months':6})"
   ]
  },
  {
   "cell_type": "code",
   "execution_count": 415,
   "metadata": {},
   "outputs": [],
   "source": [
    "train_data[\"Hobby_convert\"] = train_data[\"Hobby\"].map( {'Yes': 1.0,'No': 0.0})\n",
    "test_data[\"Hobby_convert\"] = test_data[\"Hobby\"].map( {'Yes': 1.0,'No': 0.0})"
   ]
  },
  {
   "cell_type": "code",
   "execution_count": 416,
   "metadata": {},
   "outputs": [],
   "source": [
    "train_data[\"OpenSource_convert\"] = train_data[\"OpenSource\"].map( {'Yes': 1.0,'No': 0.0})\n",
    "test_data[\"OpenSource_convert\"] = test_data[\"OpenSource\"].map( {'Yes': 1.0,'No': 0.0})"
   ]
  },
  {
   "cell_type": "code",
   "execution_count": 417,
   "metadata": {},
   "outputs": [],
   "source": [
    "train_data[\"Student_convert\"] = train_data[\"Student\"].map( {'No': 2.0,'Yes, part-time': 1.0,'Yes, full-time': 0.0})\n",
    "test_data[\"Student_convert\"] = test_data[\"Student\"].map( {'No': 2.0,'Yes, part-time': 1.0,'Yes, full-time': 0.0})"
   ]
  },
  {
   "cell_type": "code",
   "execution_count": 418,
   "metadata": {},
   "outputs": [],
   "source": [
    "train_data[\"FormalEducation_convert\"] = train_data[\"FormalEducation\"].map( {'I never completed any formal education': 0.0,\n",
    "            'Secondary school (e.g. American high school, German Realschule or Gymnasium, etc.)': 1.0,\n",
    "            'Primary/elementary school': 2.0,\n",
    "            'Associate degree': 3.0,\n",
    "            'Some college/university study without earning a degree': 4.0,\n",
    "            'Bachelor’s degree (BA, BS, B.Eng., etc.)': 5.0,\n",
    "            'Master’s degree (MA, MS, M.Eng., MBA, etc.)': 6.0,\n",
    "            'Other doctoral degree (Ph.D, Ed.D., etc.)': 7.0,\n",
    "            'Professional degree (JD, MD, etc.)': 8.0})\n",
    "test_data[\"FormalEducation_convert\"] = test_data[\"FormalEducation\"].map( {'I never completed any formal education': 0.0,\n",
    "            'Secondary school (e.g. American high school, German Realschule or Gymnasium, etc.)': 1.0,\n",
    "            'Primary/elementary school': 2.0,\n",
    "            'Associate degree': 3.0,\n",
    "            'Some college/university study without earning a degree': 4.0,\n",
    "            'Bachelor’s degree (BA, BS, B.Eng., etc.)': 5.0,\n",
    "            'Master’s degree (MA, MS, M.Eng., MBA, etc.)': 6.0,\n",
    "            'Other doctoral degree (Ph.D, Ed.D., etc.)': 7.0,\n",
    "            'Professional degree (JD, MD, etc.)': 8.0})"
   ]
  },
  {
   "cell_type": "code",
   "execution_count": 419,
   "metadata": {},
   "outputs": [],
   "source": [
    "train_data[\"UndergradMajor_convert\"] = train_data[\"UndergradMajor\"].map({'Computer science, computer engineering, or software engineering': 2.0,\n",
    "            'A natural science (ex. biology, chemistry, physics)': 1.0,\n",
    "            'Web development or web design': 2.0,\n",
    "            'Information systems, information technology, or system administration': 2.0,\n",
    "            'A social science (ex. anthropology, psychology, political science)': 0.0,\n",
    "            'A business discipline (ex. accounting, finance, marketing))': 0.0,\n",
    "            'Another engineering discipline (ex. civil, electrical, mechanical)': 1.0,\n",
    "            'A humanities discipline (ex. literature, history, philosophy)': 0.0,\n",
    "            'Mathematics or statistics)': 2.0,\n",
    "            'Fine arts or performing arts (ex. graphic design, music, studio art': 1.0,\n",
    "            'I never declared a major': 0.0,\n",
    "            'A health science (ex. nursing, pharmacy, radiology)': 0.0})\n",
    "test_data[\"UndergradMajor_convert\"] = test_data[\"UndergradMajor\"].map({'Computer science, computer engineering, or software engineering': 2.0,\n",
    "            'A natural science (ex. biology, chemistry, physics)': 1.0,\n",
    "            'Web development or web design': 2.0,\n",
    "            'Information systems, information technology, or system administration': 2.0,\n",
    "            'A social science (ex. anthropology, psychology, political science)': 0.0,\n",
    "            'A business discipline (ex. accounting, finance, marketing))': 0.0,\n",
    "            'Another engineering discipline (ex. civil, electrical, mechanical)': 1.0,\n",
    "            'A humanities discipline (ex. literature, history, philosophy)': 0.0,\n",
    "            'Mathematics or statistics)': 2.0,\n",
    "            'Fine arts or performing arts (ex. graphic design, music, studio art': 1.0,\n",
    "            'I never declared a major': 0.0,\n",
    "            'A health science (ex. nursing, pharmacy, radiology)': 0.0})"
   ]
  },
  {
   "cell_type": "code",
   "execution_count": 420,
   "metadata": {},
   "outputs": [
    {
     "data": {
      "text/plain": [
       "object     86\n",
       "float64    67\n",
       "int64       1\n",
       "dtype: int64"
      ]
     },
     "execution_count": 420,
     "metadata": {},
     "output_type": "execute_result"
    }
   ],
   "source": [
    "# Number of each type of column\n",
    "train_data.dtypes.value_counts()"
   ]
  },
  {
   "cell_type": "markdown",
   "metadata": {},
   "source": [
    "### Examine OBJECT type columns"
   ]
  },
  {
   "cell_type": "code",
   "execution_count": 421,
   "metadata": {},
   "outputs": [
    {
     "data": {
      "text/plain": [
       "LanguageDesireNextYear     14619\n",
       "LanguageWorkedWith         13583\n",
       "PlatformDesireNextYear      7501\n",
       "DatabaseDesireNextYear      5658\n",
       "PlatformWorkedWith          5249\n",
       "DevType                     4884\n",
       "IDE                         4623\n",
       "DatabaseWorkedWith          4171\n",
       "FrameworkDesireNextYear     1231\n",
       "CommunicationTools           935\n",
       "dtype: int64"
      ]
     },
     "execution_count": 421,
     "metadata": {},
     "output_type": "execute_result"
    }
   ],
   "source": [
    "# Number of unique classes in each object column\n",
    "train_data.select_dtypes('object').apply(pd.Series.nunique, axis = 0).sort_values(ascending=False).head(10)"
   ]
  },
  {
   "cell_type": "code",
   "execution_count": 422,
   "metadata": {},
   "outputs": [
    {
     "data": {
      "text/html": [
       "<div>\n",
       "<style scoped>\n",
       "    .dataframe tbody tr th:only-of-type {\n",
       "        vertical-align: middle;\n",
       "    }\n",
       "\n",
       "    .dataframe tbody tr th {\n",
       "        vertical-align: top;\n",
       "    }\n",
       "\n",
       "    .dataframe thead th {\n",
       "        text-align: right;\n",
       "    }\n",
       "</style>\n",
       "<table border=\"1\" class=\"dataframe\">\n",
       "  <thead>\n",
       "    <tr style=\"text-align: right;\">\n",
       "      <th></th>\n",
       "      <th>LanguageDesireNextYear</th>\n",
       "      <th>LanguageWorkedWith</th>\n",
       "      <th>PlatformDesireNextYear</th>\n",
       "    </tr>\n",
       "  </thead>\n",
       "  <tbody>\n",
       "    <tr>\n",
       "      <th>0</th>\n",
       "      <td>C#;Java;PHP;Python;SQL;HTML;CSS</td>\n",
       "      <td>PHP;SQL;HTML;CSS</td>\n",
       "      <td>Android;Linux;Windows Desktop or Server;WordPress</td>\n",
       "    </tr>\n",
       "    <tr>\n",
       "      <th>1</th>\n",
       "      <td>Go;Java;Kotlin</td>\n",
       "      <td>Go;Groovy;Java;JavaScript;Bash/Shell</td>\n",
       "      <td>Linux</td>\n",
       "    </tr>\n",
       "    <tr>\n",
       "      <th>2</th>\n",
       "      <td>Haskell</td>\n",
       "      <td>C++;JavaScript;SQL;HTML;CSS</td>\n",
       "      <td>Arduino;Linux;Raspberry Pi</td>\n",
       "    </tr>\n",
       "    <tr>\n",
       "      <th>3</th>\n",
       "      <td>Assembly;C;C++</td>\n",
       "      <td>Assembly;C;C++;Go;Python;Bash/Shell</td>\n",
       "      <td>Linux</td>\n",
       "    </tr>\n",
       "    <tr>\n",
       "      <th>4</th>\n",
       "      <td>C++;C#;Java;JavaScript;PHP;Python;SQL;HTML;CSS</td>\n",
       "      <td>C#;Java;JavaScript;Lua;PHP;SQL;VB.NET;HTML</td>\n",
       "      <td>Arduino;Gaming console;Linux;Mac OS;Windows De...</td>\n",
       "    </tr>\n",
       "    <tr>\n",
       "      <th>5</th>\n",
       "      <td>TypeScript</td>\n",
       "      <td>C#;JavaScript;SQL;HTML;CSS</td>\n",
       "      <td>Android;iOS</td>\n",
       "    </tr>\n",
       "    <tr>\n",
       "      <th>6</th>\n",
       "      <td>Rust;Kotlin;HTML;CSS</td>\n",
       "      <td>Java;JavaScript;Rust;Kotlin;HTML;CSS</td>\n",
       "      <td>Amazon Echo;Android;Arduino;AWS;iOS;Raspberry ...</td>\n",
       "    </tr>\n",
       "    <tr>\n",
       "      <th>7</th>\n",
       "      <td>Go;Java;JavaScript;PHP;SQL;HTML;CSS</td>\n",
       "      <td>Java;JavaScript;PHP;SQL;HTML;CSS;Bash/Shell</td>\n",
       "      <td>AWS;Serverless</td>\n",
       "    </tr>\n",
       "    <tr>\n",
       "      <th>8</th>\n",
       "      <td>JavaScript;PHP;SQL;Bash/Shell</td>\n",
       "      <td>PHP;SQL;Bash/Shell</td>\n",
       "      <td>Amazon Echo;AWS;Serverless</td>\n",
       "    </tr>\n",
       "    <tr>\n",
       "      <th>9</th>\n",
       "      <td>C#;JavaScript;PHP;SQL;TypeScript;HTML;CSS</td>\n",
       "      <td>JavaScript;PHP;SQL;HTML;CSS</td>\n",
       "      <td>NaN</td>\n",
       "    </tr>\n",
       "  </tbody>\n",
       "</table>\n",
       "</div>"
      ],
      "text/plain": [
       "                           LanguageDesireNextYear  \\\n",
       "0                 C#;Java;PHP;Python;SQL;HTML;CSS   \n",
       "1                                  Go;Java;Kotlin   \n",
       "2                                         Haskell   \n",
       "3                                  Assembly;C;C++   \n",
       "4  C++;C#;Java;JavaScript;PHP;Python;SQL;HTML;CSS   \n",
       "5                                      TypeScript   \n",
       "6                            Rust;Kotlin;HTML;CSS   \n",
       "7             Go;Java;JavaScript;PHP;SQL;HTML;CSS   \n",
       "8                   JavaScript;PHP;SQL;Bash/Shell   \n",
       "9       C#;JavaScript;PHP;SQL;TypeScript;HTML;CSS   \n",
       "\n",
       "                            LanguageWorkedWith  \\\n",
       "0                             PHP;SQL;HTML;CSS   \n",
       "1         Go;Groovy;Java;JavaScript;Bash/Shell   \n",
       "2                  C++;JavaScript;SQL;HTML;CSS   \n",
       "3          Assembly;C;C++;Go;Python;Bash/Shell   \n",
       "4   C#;Java;JavaScript;Lua;PHP;SQL;VB.NET;HTML   \n",
       "5                   C#;JavaScript;SQL;HTML;CSS   \n",
       "6         Java;JavaScript;Rust;Kotlin;HTML;CSS   \n",
       "7  Java;JavaScript;PHP;SQL;HTML;CSS;Bash/Shell   \n",
       "8                           PHP;SQL;Bash/Shell   \n",
       "9                  JavaScript;PHP;SQL;HTML;CSS   \n",
       "\n",
       "                              PlatformDesireNextYear  \n",
       "0  Android;Linux;Windows Desktop or Server;WordPress  \n",
       "1                                              Linux  \n",
       "2                         Arduino;Linux;Raspberry Pi  \n",
       "3                                              Linux  \n",
       "4  Arduino;Gaming console;Linux;Mac OS;Windows De...  \n",
       "5                                        Android;iOS  \n",
       "6  Amazon Echo;Android;Arduino;AWS;iOS;Raspberry ...  \n",
       "7                                     AWS;Serverless  \n",
       "8                         Amazon Echo;AWS;Serverless  \n",
       "9                                                NaN  "
      ]
     },
     "execution_count": 422,
     "metadata": {},
     "output_type": "execute_result"
    }
   ],
   "source": [
    "#examine the few columns have most of classes\n",
    "train_data[['LanguageDesireNextYear','LanguageWorkedWith','PlatformDesireNextYear']].head(10)"
   ]
  },
  {
   "cell_type": "markdown",
   "metadata": {},
   "source": [
    "### Examine FLOAT type columns"
   ]
  },
  {
   "cell_type": "code",
   "execution_count": 423,
   "metadata": {},
   "outputs": [
    {
     "data": {
      "text/html": [
       "<div>\n",
       "<style scoped>\n",
       "    .dataframe tbody tr th:only-of-type {\n",
       "        vertical-align: middle;\n",
       "    }\n",
       "\n",
       "    .dataframe tbody tr th {\n",
       "        vertical-align: top;\n",
       "    }\n",
       "\n",
       "    .dataframe thead th {\n",
       "        text-align: right;\n",
       "    }\n",
       "</style>\n",
       "<table border=\"1\" class=\"dataframe\">\n",
       "  <thead>\n",
       "    <tr style=\"text-align: right;\">\n",
       "      <th></th>\n",
       "      <th>AssessJob1</th>\n",
       "      <th>AssessJob2</th>\n",
       "      <th>AssessJob3</th>\n",
       "      <th>AssessJob4</th>\n",
       "      <th>AssessJob5</th>\n",
       "      <th>AssessJob6</th>\n",
       "      <th>AssessJob7</th>\n",
       "      <th>AssessJob8</th>\n",
       "      <th>AssessJob9</th>\n",
       "      <th>AssessJob10</th>\n",
       "      <th>...</th>\n",
       "      <th>StackOverflowJobsRecommend_convert</th>\n",
       "      <th>HoursComputer_convert</th>\n",
       "      <th>HoursOutside_convert</th>\n",
       "      <th>Age_convert</th>\n",
       "      <th>TimeFullyProductive_convert</th>\n",
       "      <th>Hobby_convert</th>\n",
       "      <th>OpenSource_convert</th>\n",
       "      <th>Student_convert</th>\n",
       "      <th>FormalEducation_convert</th>\n",
       "      <th>UndergradMajor_convert</th>\n",
       "    </tr>\n",
       "  </thead>\n",
       "  <tbody>\n",
       "    <tr>\n",
       "      <th>0</th>\n",
       "      <td>9.0</td>\n",
       "      <td>7.0</td>\n",
       "      <td>8.0</td>\n",
       "      <td>3.0</td>\n",
       "      <td>6.0</td>\n",
       "      <td>10.0</td>\n",
       "      <td>2.0</td>\n",
       "      <td>1.0</td>\n",
       "      <td>5.0</td>\n",
       "      <td>4.0</td>\n",
       "      <td>...</td>\n",
       "      <td>NaN</td>\n",
       "      <td>7.0</td>\n",
       "      <td>5.0</td>\n",
       "      <td>40.0</td>\n",
       "      <td>NaN</td>\n",
       "      <td>1.0</td>\n",
       "      <td>0.0</td>\n",
       "      <td>2.0</td>\n",
       "      <td>5.0</td>\n",
       "      <td>2.0</td>\n",
       "    </tr>\n",
       "    <tr>\n",
       "      <th>1</th>\n",
       "      <td>9.0</td>\n",
       "      <td>2.0</td>\n",
       "      <td>1.0</td>\n",
       "      <td>6.0</td>\n",
       "      <td>4.0</td>\n",
       "      <td>8.0</td>\n",
       "      <td>3.0</td>\n",
       "      <td>5.0</td>\n",
       "      <td>10.0</td>\n",
       "      <td>7.0</td>\n",
       "      <td>...</td>\n",
       "      <td>NaN</td>\n",
       "      <td>14.0</td>\n",
       "      <td>0.8</td>\n",
       "      <td>40.0</td>\n",
       "      <td>15.0</td>\n",
       "      <td>1.0</td>\n",
       "      <td>1.0</td>\n",
       "      <td>2.0</td>\n",
       "      <td>6.0</td>\n",
       "      <td>1.0</td>\n",
       "    </tr>\n",
       "    <tr>\n",
       "      <th>2</th>\n",
       "      <td>9.0</td>\n",
       "      <td>4.0</td>\n",
       "      <td>6.0</td>\n",
       "      <td>1.0</td>\n",
       "      <td>3.0</td>\n",
       "      <td>5.0</td>\n",
       "      <td>2.0</td>\n",
       "      <td>8.0</td>\n",
       "      <td>10.0</td>\n",
       "      <td>7.0</td>\n",
       "      <td>...</td>\n",
       "      <td>NaN</td>\n",
       "      <td>7.0</td>\n",
       "      <td>1.5</td>\n",
       "      <td>40.0</td>\n",
       "      <td>3.0</td>\n",
       "      <td>1.0</td>\n",
       "      <td>1.0</td>\n",
       "      <td>2.0</td>\n",
       "      <td>4.0</td>\n",
       "      <td>2.0</td>\n",
       "    </tr>\n",
       "    <tr>\n",
       "      <th>3</th>\n",
       "      <td>NaN</td>\n",
       "      <td>NaN</td>\n",
       "      <td>NaN</td>\n",
       "      <td>NaN</td>\n",
       "      <td>NaN</td>\n",
       "      <td>NaN</td>\n",
       "      <td>NaN</td>\n",
       "      <td>NaN</td>\n",
       "      <td>NaN</td>\n",
       "      <td>NaN</td>\n",
       "      <td>...</td>\n",
       "      <td>10.0</td>\n",
       "      <td>7.0</td>\n",
       "      <td>0.8</td>\n",
       "      <td>30.0</td>\n",
       "      <td>3.0</td>\n",
       "      <td>1.0</td>\n",
       "      <td>0.0</td>\n",
       "      <td>2.0</td>\n",
       "      <td>5.0</td>\n",
       "      <td>2.0</td>\n",
       "    </tr>\n",
       "    <tr>\n",
       "      <th>4</th>\n",
       "      <td>3.0</td>\n",
       "      <td>8.0</td>\n",
       "      <td>10.0</td>\n",
       "      <td>2.0</td>\n",
       "      <td>7.0</td>\n",
       "      <td>9.0</td>\n",
       "      <td>1.0</td>\n",
       "      <td>5.0</td>\n",
       "      <td>6.0</td>\n",
       "      <td>4.0</td>\n",
       "      <td>...</td>\n",
       "      <td>NaN</td>\n",
       "      <td>14.0</td>\n",
       "      <td>0.3</td>\n",
       "      <td>NaN</td>\n",
       "      <td>NaN</td>\n",
       "      <td>0.0</td>\n",
       "      <td>1.0</td>\n",
       "      <td>2.0</td>\n",
       "      <td>2.0</td>\n",
       "      <td>NaN</td>\n",
       "    </tr>\n",
       "    <tr>\n",
       "      <th>5</th>\n",
       "      <td>9.0</td>\n",
       "      <td>1.0</td>\n",
       "      <td>8.0</td>\n",
       "      <td>5.0</td>\n",
       "      <td>4.0</td>\n",
       "      <td>6.0</td>\n",
       "      <td>10.0</td>\n",
       "      <td>3.0</td>\n",
       "      <td>7.0</td>\n",
       "      <td>2.0</td>\n",
       "      <td>...</td>\n",
       "      <td>10.0</td>\n",
       "      <td>11.0</td>\n",
       "      <td>0.8</td>\n",
       "      <td>30.0</td>\n",
       "      <td>3.0</td>\n",
       "      <td>1.0</td>\n",
       "      <td>0.0</td>\n",
       "      <td>2.0</td>\n",
       "      <td>5.0</td>\n",
       "      <td>2.0</td>\n",
       "    </tr>\n",
       "    <tr>\n",
       "      <th>6</th>\n",
       "      <td>8.0</td>\n",
       "      <td>10.0</td>\n",
       "      <td>9.0</td>\n",
       "      <td>4.0</td>\n",
       "      <td>6.0</td>\n",
       "      <td>2.0</td>\n",
       "      <td>7.0</td>\n",
       "      <td>1.0</td>\n",
       "      <td>3.0</td>\n",
       "      <td>5.0</td>\n",
       "      <td>...</td>\n",
       "      <td>10.0</td>\n",
       "      <td>11.0</td>\n",
       "      <td>0.3</td>\n",
       "      <td>30.0</td>\n",
       "      <td>1.0</td>\n",
       "      <td>1.0</td>\n",
       "      <td>1.0</td>\n",
       "      <td>2.0</td>\n",
       "      <td>4.0</td>\n",
       "      <td>2.0</td>\n",
       "    </tr>\n",
       "    <tr>\n",
       "      <th>7</th>\n",
       "      <td>10.0</td>\n",
       "      <td>6.0</td>\n",
       "      <td>4.0</td>\n",
       "      <td>7.0</td>\n",
       "      <td>5.0</td>\n",
       "      <td>1.0</td>\n",
       "      <td>9.0</td>\n",
       "      <td>2.0</td>\n",
       "      <td>8.0</td>\n",
       "      <td>3.0</td>\n",
       "      <td>...</td>\n",
       "      <td>NaN</td>\n",
       "      <td>11.0</td>\n",
       "      <td>1.5</td>\n",
       "      <td>30.0</td>\n",
       "      <td>3.0</td>\n",
       "      <td>1.0</td>\n",
       "      <td>1.0</td>\n",
       "      <td>2.0</td>\n",
       "      <td>6.0</td>\n",
       "      <td>2.0</td>\n",
       "    </tr>\n",
       "    <tr>\n",
       "      <th>8</th>\n",
       "      <td>10.0</td>\n",
       "      <td>1.0</td>\n",
       "      <td>9.0</td>\n",
       "      <td>5.0</td>\n",
       "      <td>2.0</td>\n",
       "      <td>3.0</td>\n",
       "      <td>6.0</td>\n",
       "      <td>4.0</td>\n",
       "      <td>7.0</td>\n",
       "      <td>8.0</td>\n",
       "      <td>...</td>\n",
       "      <td>NaN</td>\n",
       "      <td>11.0</td>\n",
       "      <td>0.3</td>\n",
       "      <td>30.0</td>\n",
       "      <td>3.0</td>\n",
       "      <td>1.0</td>\n",
       "      <td>1.0</td>\n",
       "      <td>2.0</td>\n",
       "      <td>5.0</td>\n",
       "      <td>2.0</td>\n",
       "    </tr>\n",
       "    <tr>\n",
       "      <th>9</th>\n",
       "      <td>9.0</td>\n",
       "      <td>8.0</td>\n",
       "      <td>7.0</td>\n",
       "      <td>6.0</td>\n",
       "      <td>2.0</td>\n",
       "      <td>1.0</td>\n",
       "      <td>5.0</td>\n",
       "      <td>4.0</td>\n",
       "      <td>10.0</td>\n",
       "      <td>3.0</td>\n",
       "      <td>...</td>\n",
       "      <td>NaN</td>\n",
       "      <td>11.0</td>\n",
       "      <td>0.3</td>\n",
       "      <td>21.0</td>\n",
       "      <td>6.0</td>\n",
       "      <td>1.0</td>\n",
       "      <td>1.0</td>\n",
       "      <td>2.0</td>\n",
       "      <td>4.0</td>\n",
       "      <td>2.0</td>\n",
       "    </tr>\n",
       "  </tbody>\n",
       "</table>\n",
       "<p>10 rows × 67 columns</p>\n",
       "</div>"
      ],
      "text/plain": [
       "   AssessJob1  AssessJob2  AssessJob3  AssessJob4  AssessJob5  AssessJob6  \\\n",
       "0         9.0         7.0         8.0         3.0         6.0        10.0   \n",
       "1         9.0         2.0         1.0         6.0         4.0         8.0   \n",
       "2         9.0         4.0         6.0         1.0         3.0         5.0   \n",
       "3         NaN         NaN         NaN         NaN         NaN         NaN   \n",
       "4         3.0         8.0        10.0         2.0         7.0         9.0   \n",
       "5         9.0         1.0         8.0         5.0         4.0         6.0   \n",
       "6         8.0        10.0         9.0         4.0         6.0         2.0   \n",
       "7        10.0         6.0         4.0         7.0         5.0         1.0   \n",
       "8        10.0         1.0         9.0         5.0         2.0         3.0   \n",
       "9         9.0         8.0         7.0         6.0         2.0         1.0   \n",
       "\n",
       "   AssessJob7  AssessJob8  AssessJob9  AssessJob10  ...  \\\n",
       "0         2.0         1.0         5.0          4.0  ...   \n",
       "1         3.0         5.0        10.0          7.0  ...   \n",
       "2         2.0         8.0        10.0          7.0  ...   \n",
       "3         NaN         NaN         NaN          NaN  ...   \n",
       "4         1.0         5.0         6.0          4.0  ...   \n",
       "5        10.0         3.0         7.0          2.0  ...   \n",
       "6         7.0         1.0         3.0          5.0  ...   \n",
       "7         9.0         2.0         8.0          3.0  ...   \n",
       "8         6.0         4.0         7.0          8.0  ...   \n",
       "9         5.0         4.0        10.0          3.0  ...   \n",
       "\n",
       "   StackOverflowJobsRecommend_convert  HoursComputer_convert  \\\n",
       "0                                 NaN                    7.0   \n",
       "1                                 NaN                   14.0   \n",
       "2                                 NaN                    7.0   \n",
       "3                                10.0                    7.0   \n",
       "4                                 NaN                   14.0   \n",
       "5                                10.0                   11.0   \n",
       "6                                10.0                   11.0   \n",
       "7                                 NaN                   11.0   \n",
       "8                                 NaN                   11.0   \n",
       "9                                 NaN                   11.0   \n",
       "\n",
       "   HoursOutside_convert  Age_convert  TimeFullyProductive_convert  \\\n",
       "0                   5.0         40.0                          NaN   \n",
       "1                   0.8         40.0                         15.0   \n",
       "2                   1.5         40.0                          3.0   \n",
       "3                   0.8         30.0                          3.0   \n",
       "4                   0.3          NaN                          NaN   \n",
       "5                   0.8         30.0                          3.0   \n",
       "6                   0.3         30.0                          1.0   \n",
       "7                   1.5         30.0                          3.0   \n",
       "8                   0.3         30.0                          3.0   \n",
       "9                   0.3         21.0                          6.0   \n",
       "\n",
       "   Hobby_convert  OpenSource_convert  Student_convert  \\\n",
       "0            1.0                 0.0              2.0   \n",
       "1            1.0                 1.0              2.0   \n",
       "2            1.0                 1.0              2.0   \n",
       "3            1.0                 0.0              2.0   \n",
       "4            0.0                 1.0              2.0   \n",
       "5            1.0                 0.0              2.0   \n",
       "6            1.0                 1.0              2.0   \n",
       "7            1.0                 1.0              2.0   \n",
       "8            1.0                 1.0              2.0   \n",
       "9            1.0                 1.0              2.0   \n",
       "\n",
       "   FormalEducation_convert  UndergradMajor_convert  \n",
       "0                      5.0                     2.0  \n",
       "1                      6.0                     1.0  \n",
       "2                      4.0                     2.0  \n",
       "3                      5.0                     2.0  \n",
       "4                      2.0                     NaN  \n",
       "5                      5.0                     2.0  \n",
       "6                      4.0                     2.0  \n",
       "7                      6.0                     2.0  \n",
       "8                      5.0                     2.0  \n",
       "9                      4.0                     2.0  \n",
       "\n",
       "[10 rows x 67 columns]"
      ]
     },
     "execution_count": 423,
     "metadata": {},
     "output_type": "execute_result"
    }
   ],
   "source": [
    "train_data.select_dtypes('float').head(10)"
   ]
  },
  {
   "cell_type": "code",
   "execution_count": 424,
   "metadata": {},
   "outputs": [
    {
     "data": {
      "text/html": [
       "<div>\n",
       "<style scoped>\n",
       "    .dataframe tbody tr th:only-of-type {\n",
       "        vertical-align: middle;\n",
       "    }\n",
       "\n",
       "    .dataframe tbody tr th {\n",
       "        vertical-align: top;\n",
       "    }\n",
       "\n",
       "    .dataframe thead th {\n",
       "        text-align: right;\n",
       "    }\n",
       "</style>\n",
       "<table border=\"1\" class=\"dataframe\">\n",
       "  <thead>\n",
       "    <tr style=\"text-align: right;\">\n",
       "      <th></th>\n",
       "      <th>AssessJob1</th>\n",
       "      <th>AssessJob2</th>\n",
       "      <th>AssessJob3</th>\n",
       "      <th>AssessJob4</th>\n",
       "      <th>AssessJob5</th>\n",
       "      <th>AssessJob6</th>\n",
       "      <th>AssessJob7</th>\n",
       "      <th>AssessJob8</th>\n",
       "      <th>AssessJob9</th>\n",
       "      <th>AssessJob10</th>\n",
       "      <th>...</th>\n",
       "      <th>StackOverflowJobsRecommend_convert</th>\n",
       "      <th>HoursComputer_convert</th>\n",
       "      <th>HoursOutside_convert</th>\n",
       "      <th>Age_convert</th>\n",
       "      <th>TimeFullyProductive_convert</th>\n",
       "      <th>Hobby_convert</th>\n",
       "      <th>OpenSource_convert</th>\n",
       "      <th>Student_convert</th>\n",
       "      <th>FormalEducation_convert</th>\n",
       "      <th>UndergradMajor_convert</th>\n",
       "    </tr>\n",
       "  </thead>\n",
       "  <tbody>\n",
       "    <tr>\n",
       "      <th>count</th>\n",
       "      <td>32390.000000</td>\n",
       "      <td>32390.000000</td>\n",
       "      <td>32390.000000</td>\n",
       "      <td>32390.000000</td>\n",
       "      <td>32390.000000</td>\n",
       "      <td>32390.000000</td>\n",
       "      <td>32390.000000</td>\n",
       "      <td>32390.000000</td>\n",
       "      <td>32390.000000</td>\n",
       "      <td>32390.000000</td>\n",
       "      <td>...</td>\n",
       "      <td>5270.000000</td>\n",
       "      <td>32601.000000</td>\n",
       "      <td>32610.000000</td>\n",
       "      <td>31133.000000</td>\n",
       "      <td>28310.000000</td>\n",
       "      <td>33857.000000</td>\n",
       "      <td>33857.000000</td>\n",
       "      <td>33563.000000</td>\n",
       "      <td>33370.000000</td>\n",
       "      <td>27753.000000</td>\n",
       "    </tr>\n",
       "    <tr>\n",
       "      <th>mean</th>\n",
       "      <td>6.601019</td>\n",
       "      <td>6.753226</td>\n",
       "      <td>5.919759</td>\n",
       "      <td>4.027138</td>\n",
       "      <td>3.714078</td>\n",
       "      <td>4.302593</td>\n",
       "      <td>5.610157</td>\n",
       "      <td>4.232664</td>\n",
       "      <td>7.716764</td>\n",
       "      <td>6.122600</td>\n",
       "      <td>...</td>\n",
       "      <td>8.886148</td>\n",
       "      <td>10.112297</td>\n",
       "      <td>1.259212</td>\n",
       "      <td>31.070568</td>\n",
       "      <td>3.537337</td>\n",
       "      <td>0.812476</td>\n",
       "      <td>0.437221</td>\n",
       "      <td>1.698209</td>\n",
       "      <td>4.831885</td>\n",
       "      <td>1.741938</td>\n",
       "    </tr>\n",
       "    <tr>\n",
       "      <th>std</th>\n",
       "      <td>2.715798</td>\n",
       "      <td>2.498056</td>\n",
       "      <td>2.643799</td>\n",
       "      <td>2.508112</td>\n",
       "      <td>2.411668</td>\n",
       "      <td>2.453037</td>\n",
       "      <td>2.902357</td>\n",
       "      <td>2.476109</td>\n",
       "      <td>2.377179</td>\n",
       "      <td>2.625833</td>\n",
       "      <td>...</td>\n",
       "      <td>3.146384</td>\n",
       "      <td>2.447597</td>\n",
       "      <td>0.925838</td>\n",
       "      <td>7.441640</td>\n",
       "      <td>2.712045</td>\n",
       "      <td>0.390337</td>\n",
       "      <td>0.496050</td>\n",
       "      <td>0.671825</td>\n",
       "      <td>1.366173</td>\n",
       "      <td>0.559122</td>\n",
       "    </tr>\n",
       "    <tr>\n",
       "      <th>min</th>\n",
       "      <td>1.000000</td>\n",
       "      <td>1.000000</td>\n",
       "      <td>1.000000</td>\n",
       "      <td>1.000000</td>\n",
       "      <td>1.000000</td>\n",
       "      <td>1.000000</td>\n",
       "      <td>1.000000</td>\n",
       "      <td>1.000000</td>\n",
       "      <td>1.000000</td>\n",
       "      <td>1.000000</td>\n",
       "      <td>...</td>\n",
       "      <td>0.000000</td>\n",
       "      <td>3.000000</td>\n",
       "      <td>0.300000</td>\n",
       "      <td>21.000000</td>\n",
       "      <td>1.000000</td>\n",
       "      <td>0.000000</td>\n",
       "      <td>0.000000</td>\n",
       "      <td>0.000000</td>\n",
       "      <td>0.000000</td>\n",
       "      <td>0.000000</td>\n",
       "    </tr>\n",
       "    <tr>\n",
       "      <th>25%</th>\n",
       "      <td>5.000000</td>\n",
       "      <td>5.000000</td>\n",
       "      <td>4.000000</td>\n",
       "      <td>2.000000</td>\n",
       "      <td>2.000000</td>\n",
       "      <td>2.000000</td>\n",
       "      <td>3.000000</td>\n",
       "      <td>2.000000</td>\n",
       "      <td>6.000000</td>\n",
       "      <td>4.000000</td>\n",
       "      <td>...</td>\n",
       "      <td>10.000000</td>\n",
       "      <td>7.000000</td>\n",
       "      <td>0.800000</td>\n",
       "      <td>30.000000</td>\n",
       "      <td>1.000000</td>\n",
       "      <td>1.000000</td>\n",
       "      <td>0.000000</td>\n",
       "      <td>2.000000</td>\n",
       "      <td>5.000000</td>\n",
       "      <td>2.000000</td>\n",
       "    </tr>\n",
       "    <tr>\n",
       "      <th>50%</th>\n",
       "      <td>7.000000</td>\n",
       "      <td>7.000000</td>\n",
       "      <td>6.000000</td>\n",
       "      <td>4.000000</td>\n",
       "      <td>3.000000</td>\n",
       "      <td>4.000000</td>\n",
       "      <td>6.000000</td>\n",
       "      <td>4.000000</td>\n",
       "      <td>8.000000</td>\n",
       "      <td>6.000000</td>\n",
       "      <td>...</td>\n",
       "      <td>10.000000</td>\n",
       "      <td>11.000000</td>\n",
       "      <td>0.800000</td>\n",
       "      <td>30.000000</td>\n",
       "      <td>3.000000</td>\n",
       "      <td>1.000000</td>\n",
       "      <td>0.000000</td>\n",
       "      <td>2.000000</td>\n",
       "      <td>5.000000</td>\n",
       "      <td>2.000000</td>\n",
       "    </tr>\n",
       "    <tr>\n",
       "      <th>75%</th>\n",
       "      <td>9.000000</td>\n",
       "      <td>9.000000</td>\n",
       "      <td>8.000000</td>\n",
       "      <td>6.000000</td>\n",
       "      <td>5.000000</td>\n",
       "      <td>6.000000</td>\n",
       "      <td>8.000000</td>\n",
       "      <td>6.000000</td>\n",
       "      <td>10.000000</td>\n",
       "      <td>8.000000</td>\n",
       "      <td>...</td>\n",
       "      <td>10.000000</td>\n",
       "      <td>11.000000</td>\n",
       "      <td>1.500000</td>\n",
       "      <td>30.000000</td>\n",
       "      <td>6.000000</td>\n",
       "      <td>1.000000</td>\n",
       "      <td>1.000000</td>\n",
       "      <td>2.000000</td>\n",
       "      <td>6.000000</td>\n",
       "      <td>2.000000</td>\n",
       "    </tr>\n",
       "    <tr>\n",
       "      <th>max</th>\n",
       "      <td>10.000000</td>\n",
       "      <td>10.000000</td>\n",
       "      <td>10.000000</td>\n",
       "      <td>10.000000</td>\n",
       "      <td>10.000000</td>\n",
       "      <td>10.000000</td>\n",
       "      <td>10.000000</td>\n",
       "      <td>10.000000</td>\n",
       "      <td>10.000000</td>\n",
       "      <td>10.000000</td>\n",
       "      <td>...</td>\n",
       "      <td>10.000000</td>\n",
       "      <td>14.000000</td>\n",
       "      <td>5.000000</td>\n",
       "      <td>50.000000</td>\n",
       "      <td>15.000000</td>\n",
       "      <td>1.000000</td>\n",
       "      <td>1.000000</td>\n",
       "      <td>2.000000</td>\n",
       "      <td>8.000000</td>\n",
       "      <td>2.000000</td>\n",
       "    </tr>\n",
       "  </tbody>\n",
       "</table>\n",
       "<p>8 rows × 66 columns</p>\n",
       "</div>"
      ],
      "text/plain": [
       "         AssessJob1    AssessJob2    AssessJob3    AssessJob4    AssessJob5  \\\n",
       "count  32390.000000  32390.000000  32390.000000  32390.000000  32390.000000   \n",
       "mean       6.601019      6.753226      5.919759      4.027138      3.714078   \n",
       "std        2.715798      2.498056      2.643799      2.508112      2.411668   \n",
       "min        1.000000      1.000000      1.000000      1.000000      1.000000   \n",
       "25%        5.000000      5.000000      4.000000      2.000000      2.000000   \n",
       "50%        7.000000      7.000000      6.000000      4.000000      3.000000   \n",
       "75%        9.000000      9.000000      8.000000      6.000000      5.000000   \n",
       "max       10.000000     10.000000     10.000000     10.000000     10.000000   \n",
       "\n",
       "         AssessJob6    AssessJob7    AssessJob8    AssessJob9   AssessJob10  \\\n",
       "count  32390.000000  32390.000000  32390.000000  32390.000000  32390.000000   \n",
       "mean       4.302593      5.610157      4.232664      7.716764      6.122600   \n",
       "std        2.453037      2.902357      2.476109      2.377179      2.625833   \n",
       "min        1.000000      1.000000      1.000000      1.000000      1.000000   \n",
       "25%        2.000000      3.000000      2.000000      6.000000      4.000000   \n",
       "50%        4.000000      6.000000      4.000000      8.000000      6.000000   \n",
       "75%        6.000000      8.000000      6.000000     10.000000      8.000000   \n",
       "max       10.000000     10.000000     10.000000     10.000000     10.000000   \n",
       "\n",
       "       ...  StackOverflowJobsRecommend_convert  HoursComputer_convert  \\\n",
       "count  ...                         5270.000000           32601.000000   \n",
       "mean   ...                            8.886148              10.112297   \n",
       "std    ...                            3.146384               2.447597   \n",
       "min    ...                            0.000000               3.000000   \n",
       "25%    ...                           10.000000               7.000000   \n",
       "50%    ...                           10.000000              11.000000   \n",
       "75%    ...                           10.000000              11.000000   \n",
       "max    ...                           10.000000              14.000000   \n",
       "\n",
       "       HoursOutside_convert   Age_convert  TimeFullyProductive_convert  \\\n",
       "count          32610.000000  31133.000000                 28310.000000   \n",
       "mean               1.259212     31.070568                     3.537337   \n",
       "std                0.925838      7.441640                     2.712045   \n",
       "min                0.300000     21.000000                     1.000000   \n",
       "25%                0.800000     30.000000                     1.000000   \n",
       "50%                0.800000     30.000000                     3.000000   \n",
       "75%                1.500000     30.000000                     6.000000   \n",
       "max                5.000000     50.000000                    15.000000   \n",
       "\n",
       "       Hobby_convert  OpenSource_convert  Student_convert  \\\n",
       "count   33857.000000        33857.000000     33563.000000   \n",
       "mean        0.812476            0.437221         1.698209   \n",
       "std         0.390337            0.496050         0.671825   \n",
       "min         0.000000            0.000000         0.000000   \n",
       "25%         1.000000            0.000000         2.000000   \n",
       "50%         1.000000            0.000000         2.000000   \n",
       "75%         1.000000            1.000000         2.000000   \n",
       "max         1.000000            1.000000         2.000000   \n",
       "\n",
       "       FormalEducation_convert  UndergradMajor_convert  \n",
       "count             33370.000000            27753.000000  \n",
       "mean                  4.831885                1.741938  \n",
       "std                   1.366173                0.559122  \n",
       "min                   0.000000                0.000000  \n",
       "25%                   5.000000                2.000000  \n",
       "50%                   5.000000                2.000000  \n",
       "75%                   6.000000                2.000000  \n",
       "max                   8.000000                2.000000  \n",
       "\n",
       "[8 rows x 66 columns]"
      ]
     },
     "execution_count": 424,
     "metadata": {},
     "output_type": "execute_result"
    }
   ],
   "source": [
    "view=train_data.select_dtypes('float').drop('Salary',axis=1).describe()\n",
    "view"
   ]
  },
  {
   "cell_type": "markdown",
   "metadata": {},
   "source": [
    "### Examine INT type columns"
   ]
  },
  {
   "cell_type": "code",
   "execution_count": 425,
   "metadata": {},
   "outputs": [
    {
     "data": {
      "text/html": [
       "<div>\n",
       "<style scoped>\n",
       "    .dataframe tbody tr th:only-of-type {\n",
       "        vertical-align: middle;\n",
       "    }\n",
       "\n",
       "    .dataframe tbody tr th {\n",
       "        vertical-align: top;\n",
       "    }\n",
       "\n",
       "    .dataframe thead th {\n",
       "        text-align: right;\n",
       "    }\n",
       "</style>\n",
       "<table border=\"1\" class=\"dataframe\">\n",
       "  <thead>\n",
       "    <tr style=\"text-align: right;\">\n",
       "      <th></th>\n",
       "    </tr>\n",
       "  </thead>\n",
       "  <tbody>\n",
       "    <tr>\n",
       "      <th>0</th>\n",
       "    </tr>\n",
       "    <tr>\n",
       "      <th>1</th>\n",
       "    </tr>\n",
       "    <tr>\n",
       "      <th>2</th>\n",
       "    </tr>\n",
       "    <tr>\n",
       "      <th>3</th>\n",
       "    </tr>\n",
       "    <tr>\n",
       "      <th>4</th>\n",
       "    </tr>\n",
       "    <tr>\n",
       "      <th>5</th>\n",
       "    </tr>\n",
       "    <tr>\n",
       "      <th>6</th>\n",
       "    </tr>\n",
       "    <tr>\n",
       "      <th>7</th>\n",
       "    </tr>\n",
       "    <tr>\n",
       "      <th>8</th>\n",
       "    </tr>\n",
       "    <tr>\n",
       "      <th>9</th>\n",
       "    </tr>\n",
       "  </tbody>\n",
       "</table>\n",
       "</div>"
      ],
      "text/plain": [
       "Empty DataFrame\n",
       "Columns: []\n",
       "Index: [0, 1, 2, 3, 4, 5, 6, 7, 8, 9]"
      ]
     },
     "execution_count": 425,
     "metadata": {},
     "output_type": "execute_result"
    }
   ],
   "source": [
    "train_data.select_dtypes('int').head(10)"
   ]
  },
  {
   "cell_type": "code",
   "execution_count": 426,
   "metadata": {},
   "outputs": [],
   "source": [
    "# drop int column type\n",
    "train_data = train_data.drop('No',axis=1)\n",
    "test_data = test_data.drop('No',axis=1)"
   ]
  },
  {
   "cell_type": "markdown",
   "metadata": {},
   "source": [
    "# Data preprocessing"
   ]
  },
  {
   "cell_type": "markdown",
   "metadata": {},
   "source": [
    "## Clean data"
   ]
  },
  {
   "cell_type": "markdown",
   "metadata": {},
   "source": [
    "Drop the columns and the rows have more 50% missing values"
   ]
  },
  {
   "cell_type": "code",
   "execution_count": 427,
   "metadata": {},
   "outputs": [],
   "source": [
    "missing_cols_drop = missing_values[missing_values.iloc[:,1]>80].index"
   ]
  },
  {
   "cell_type": "code",
   "execution_count": 428,
   "metadata": {},
   "outputs": [],
   "source": [
    "train_data = train_data.drop(missing_cols_drop,axis =1)\n",
    "test_data = test_data.drop(missing_cols_drop,axis =1)"
   ]
  },
  {
   "cell_type": "code",
   "execution_count": 429,
   "metadata": {},
   "outputs": [],
   "source": [
    "missing_rows_drop = train_data.isnull().sum(axis=1)"
   ]
  },
  {
   "cell_type": "code",
   "execution_count": 430,
   "metadata": {},
   "outputs": [],
   "source": [
    "train_data = train_data[missing_rows_drop<(train_data.shape[1]/2)]"
   ]
  },
  {
   "cell_type": "code",
   "execution_count": 431,
   "metadata": {},
   "outputs": [
    {
     "name": "stdout",
     "output_type": "stream",
     "text": [
      "Training data shape: (33171, 152)\n",
      "Testing data shape: (11259, 151)\n"
     ]
    }
   ],
   "source": [
    "print('Training data shape:',train_data.shape)\n",
    "print('Testing data shape:',test_data.shape)"
   ]
  },
  {
   "cell_type": "code",
   "execution_count": 432,
   "metadata": {},
   "outputs": [],
   "source": [
    "target = train_data['Salary']\n",
    "train_data = train_data.drop('Salary',axis=1)"
   ]
  },
  {
   "cell_type": "markdown",
   "metadata": {},
   "source": [
    "## Split dataset to 3 small datasets based on column type"
   ]
  },
  {
   "cell_type": "markdown",
   "metadata": {},
   "source": [
    "### Float columns type"
   ]
  },
  {
   "cell_type": "code",
   "execution_count": 433,
   "metadata": {},
   "outputs": [],
   "source": [
    "# get columns name\n",
    "float_cols_name_train = train_data.select_dtypes('float').columns\n",
    "float_cols_name_test = test_data.select_dtypes('float').columns"
   ]
  },
  {
   "cell_type": "code",
   "execution_count": 434,
   "metadata": {},
   "outputs": [],
   "source": [
    "#fill na by median\n",
    "imputer = SimpleImputer(missing_values=np.nan, strategy='median')\n",
    "train_arr = imputer.fit_transform(train_data.select_dtypes('float'))\n",
    "test_arr = imputer.transform(test_data.select_dtypes('float'))"
   ]
  },
  {
   "cell_type": "code",
   "execution_count": 435,
   "metadata": {},
   "outputs": [],
   "source": [
    "float_dataset_train = pd.DataFrame(train_arr,columns=float_cols_name_train)\n",
    "float_dataset_test = pd.DataFrame(test_arr,columns=float_cols_name_test)"
   ]
  },
  {
   "cell_type": "code",
   "execution_count": 436,
   "metadata": {},
   "outputs": [
    {
     "name": "stdout",
     "output_type": "stream",
     "text": [
      "Training float dataset shape:  (33171, 66)\n",
      "Testing dloat dataset shape:  (11259, 66)\n"
     ]
    }
   ],
   "source": [
    "print('Training float dataset shape: ', float_dataset_train.shape)\n",
    "print('Testing dloat dataset shape: ', float_dataset_test.shape)"
   ]
  },
  {
   "cell_type": "code",
   "execution_count": 437,
   "metadata": {},
   "outputs": [
    {
     "data": {
      "text/html": [
       "<div>\n",
       "<style scoped>\n",
       "    .dataframe tbody tr th:only-of-type {\n",
       "        vertical-align: middle;\n",
       "    }\n",
       "\n",
       "    .dataframe tbody tr th {\n",
       "        vertical-align: top;\n",
       "    }\n",
       "\n",
       "    .dataframe thead th {\n",
       "        text-align: right;\n",
       "    }\n",
       "</style>\n",
       "<table border=\"1\" class=\"dataframe\">\n",
       "  <thead>\n",
       "    <tr style=\"text-align: right;\">\n",
       "      <th></th>\n",
       "      <th>AssessJob1</th>\n",
       "      <th>AssessJob2</th>\n",
       "      <th>AssessJob3</th>\n",
       "      <th>AssessJob4</th>\n",
       "      <th>AssessJob5</th>\n",
       "      <th>AssessJob6</th>\n",
       "      <th>AssessJob7</th>\n",
       "      <th>AssessJob8</th>\n",
       "      <th>AssessJob9</th>\n",
       "      <th>AssessJob10</th>\n",
       "      <th>...</th>\n",
       "      <th>StackOverflowJobsRecommend_convert</th>\n",
       "      <th>HoursComputer_convert</th>\n",
       "      <th>HoursOutside_convert</th>\n",
       "      <th>Age_convert</th>\n",
       "      <th>TimeFullyProductive_convert</th>\n",
       "      <th>Hobby_convert</th>\n",
       "      <th>OpenSource_convert</th>\n",
       "      <th>Student_convert</th>\n",
       "      <th>FormalEducation_convert</th>\n",
       "      <th>UndergradMajor_convert</th>\n",
       "    </tr>\n",
       "  </thead>\n",
       "  <tbody>\n",
       "    <tr>\n",
       "      <th>0</th>\n",
       "      <td>9.0</td>\n",
       "      <td>7.0</td>\n",
       "      <td>8.0</td>\n",
       "      <td>3.0</td>\n",
       "      <td>6.0</td>\n",
       "      <td>10.0</td>\n",
       "      <td>2.0</td>\n",
       "      <td>1.0</td>\n",
       "      <td>5.0</td>\n",
       "      <td>4.0</td>\n",
       "      <td>...</td>\n",
       "      <td>10.0</td>\n",
       "      <td>7.0</td>\n",
       "      <td>5.0</td>\n",
       "      <td>40.0</td>\n",
       "      <td>3.0</td>\n",
       "      <td>1.0</td>\n",
       "      <td>0.0</td>\n",
       "      <td>2.0</td>\n",
       "      <td>5.0</td>\n",
       "      <td>2.0</td>\n",
       "    </tr>\n",
       "    <tr>\n",
       "      <th>1</th>\n",
       "      <td>9.0</td>\n",
       "      <td>2.0</td>\n",
       "      <td>1.0</td>\n",
       "      <td>6.0</td>\n",
       "      <td>4.0</td>\n",
       "      <td>8.0</td>\n",
       "      <td>3.0</td>\n",
       "      <td>5.0</td>\n",
       "      <td>10.0</td>\n",
       "      <td>7.0</td>\n",
       "      <td>...</td>\n",
       "      <td>10.0</td>\n",
       "      <td>14.0</td>\n",
       "      <td>0.8</td>\n",
       "      <td>40.0</td>\n",
       "      <td>15.0</td>\n",
       "      <td>1.0</td>\n",
       "      <td>1.0</td>\n",
       "      <td>2.0</td>\n",
       "      <td>6.0</td>\n",
       "      <td>1.0</td>\n",
       "    </tr>\n",
       "    <tr>\n",
       "      <th>2</th>\n",
       "      <td>9.0</td>\n",
       "      <td>4.0</td>\n",
       "      <td>6.0</td>\n",
       "      <td>1.0</td>\n",
       "      <td>3.0</td>\n",
       "      <td>5.0</td>\n",
       "      <td>2.0</td>\n",
       "      <td>8.0</td>\n",
       "      <td>10.0</td>\n",
       "      <td>7.0</td>\n",
       "      <td>...</td>\n",
       "      <td>10.0</td>\n",
       "      <td>7.0</td>\n",
       "      <td>1.5</td>\n",
       "      <td>40.0</td>\n",
       "      <td>3.0</td>\n",
       "      <td>1.0</td>\n",
       "      <td>1.0</td>\n",
       "      <td>2.0</td>\n",
       "      <td>4.0</td>\n",
       "      <td>2.0</td>\n",
       "    </tr>\n",
       "    <tr>\n",
       "      <th>3</th>\n",
       "      <td>7.0</td>\n",
       "      <td>7.0</td>\n",
       "      <td>6.0</td>\n",
       "      <td>4.0</td>\n",
       "      <td>3.0</td>\n",
       "      <td>4.0</td>\n",
       "      <td>6.0</td>\n",
       "      <td>4.0</td>\n",
       "      <td>8.0</td>\n",
       "      <td>6.0</td>\n",
       "      <td>...</td>\n",
       "      <td>10.0</td>\n",
       "      <td>7.0</td>\n",
       "      <td>0.8</td>\n",
       "      <td>30.0</td>\n",
       "      <td>3.0</td>\n",
       "      <td>1.0</td>\n",
       "      <td>0.0</td>\n",
       "      <td>2.0</td>\n",
       "      <td>5.0</td>\n",
       "      <td>2.0</td>\n",
       "    </tr>\n",
       "    <tr>\n",
       "      <th>4</th>\n",
       "      <td>3.0</td>\n",
       "      <td>8.0</td>\n",
       "      <td>10.0</td>\n",
       "      <td>2.0</td>\n",
       "      <td>7.0</td>\n",
       "      <td>9.0</td>\n",
       "      <td>1.0</td>\n",
       "      <td>5.0</td>\n",
       "      <td>6.0</td>\n",
       "      <td>4.0</td>\n",
       "      <td>...</td>\n",
       "      <td>10.0</td>\n",
       "      <td>14.0</td>\n",
       "      <td>0.3</td>\n",
       "      <td>30.0</td>\n",
       "      <td>3.0</td>\n",
       "      <td>0.0</td>\n",
       "      <td>1.0</td>\n",
       "      <td>2.0</td>\n",
       "      <td>2.0</td>\n",
       "      <td>2.0</td>\n",
       "    </tr>\n",
       "  </tbody>\n",
       "</table>\n",
       "<p>5 rows × 66 columns</p>\n",
       "</div>"
      ],
      "text/plain": [
       "   AssessJob1  AssessJob2  AssessJob3  AssessJob4  AssessJob5  AssessJob6  \\\n",
       "0         9.0         7.0         8.0         3.0         6.0        10.0   \n",
       "1         9.0         2.0         1.0         6.0         4.0         8.0   \n",
       "2         9.0         4.0         6.0         1.0         3.0         5.0   \n",
       "3         7.0         7.0         6.0         4.0         3.0         4.0   \n",
       "4         3.0         8.0        10.0         2.0         7.0         9.0   \n",
       "\n",
       "   AssessJob7  AssessJob8  AssessJob9  AssessJob10  ...  \\\n",
       "0         2.0         1.0         5.0          4.0  ...   \n",
       "1         3.0         5.0        10.0          7.0  ...   \n",
       "2         2.0         8.0        10.0          7.0  ...   \n",
       "3         6.0         4.0         8.0          6.0  ...   \n",
       "4         1.0         5.0         6.0          4.0  ...   \n",
       "\n",
       "   StackOverflowJobsRecommend_convert  HoursComputer_convert  \\\n",
       "0                                10.0                    7.0   \n",
       "1                                10.0                   14.0   \n",
       "2                                10.0                    7.0   \n",
       "3                                10.0                    7.0   \n",
       "4                                10.0                   14.0   \n",
       "\n",
       "   HoursOutside_convert  Age_convert  TimeFullyProductive_convert  \\\n",
       "0                   5.0         40.0                          3.0   \n",
       "1                   0.8         40.0                         15.0   \n",
       "2                   1.5         40.0                          3.0   \n",
       "3                   0.8         30.0                          3.0   \n",
       "4                   0.3         30.0                          3.0   \n",
       "\n",
       "   Hobby_convert  OpenSource_convert  Student_convert  \\\n",
       "0            1.0                 0.0              2.0   \n",
       "1            1.0                 1.0              2.0   \n",
       "2            1.0                 1.0              2.0   \n",
       "3            1.0                 0.0              2.0   \n",
       "4            0.0                 1.0              2.0   \n",
       "\n",
       "   FormalEducation_convert  UndergradMajor_convert  \n",
       "0                      5.0                     2.0  \n",
       "1                      6.0                     1.0  \n",
       "2                      4.0                     2.0  \n",
       "3                      5.0                     2.0  \n",
       "4                      2.0                     2.0  \n",
       "\n",
       "[5 rows x 66 columns]"
      ]
     },
     "execution_count": 437,
     "metadata": {},
     "output_type": "execute_result"
    }
   ],
   "source": [
    "float_dataset_train.head()"
   ]
  },
  {
   "cell_type": "code",
   "execution_count": 438,
   "metadata": {},
   "outputs": [],
   "source": [
    "#Check corr\n",
    "#Checkcorr= float_dataset_train\n",
    "#Checkcorr['label']=target"
   ]
  },
  {
   "cell_type": "code",
   "execution_count": 439,
   "metadata": {},
   "outputs": [],
   "source": [
    "# The undersample dataframe\n",
    "#plt.figure(figsize = (20, 20))\n",
    "#corr = float_dataset_train.corr()\n",
    "#sns.heatmap(corr, cmap=\"coolwarm_r\", annot=True)"
   ]
  },
  {
   "cell_type": "code",
   "execution_count": 440,
   "metadata": {},
   "outputs": [],
   "source": [
    "#corr['label']"
   ]
  },
  {
   "cell_type": "markdown",
   "metadata": {},
   "source": [
    "### Categorical \"multiple-choices\" columns type"
   ]
  },
  {
   "cell_type": "code",
   "execution_count": 441,
   "metadata": {},
   "outputs": [],
   "source": [
    "#function for check which column contains multiple-choice\n",
    "def check_multiple_choices(text):\n",
    "    if type(text)==str:\n",
    "        if ';' in text:\n",
    "            return 1\n",
    "        else:\n",
    "            return 0\n",
    "    return 0"
   ]
  },
  {
   "cell_type": "code",
   "execution_count": 442,
   "metadata": {},
   "outputs": [],
   "source": [
    "#Categorical columns is columns, which are not in float cols\n",
    "categorical_cols_name=[col for col in train_data.columns if col not in float_cols_name_train]\n",
    "#Multiple choices is categorical with character: \";\"\n",
    "mul_choices_cols_name=[]\n",
    "for i in categorical_cols_name:\n",
    "    if sum(train_data[i].apply(check_multiple_choices))>0:\n",
    "        mul_choices_cols_name.append(i)"
   ]
  },
  {
   "cell_type": "code",
   "execution_count": 443,
   "metadata": {},
   "outputs": [
    {
     "data": {
      "text/plain": [
       "['DevType',\n",
       " 'CommunicationTools',\n",
       " 'EducationTypes',\n",
       " 'SelfTaughtTypes',\n",
       " 'HackathonReasons',\n",
       " 'LanguageWorkedWith',\n",
       " 'LanguageDesireNextYear',\n",
       " 'DatabaseWorkedWith',\n",
       " 'DatabaseDesireNextYear',\n",
       " 'PlatformWorkedWith',\n",
       " 'PlatformDesireNextYear',\n",
       " 'FrameworkWorkedWith',\n",
       " 'FrameworkDesireNextYear',\n",
       " 'IDE',\n",
       " 'Methodology',\n",
       " 'VersionControl',\n",
       " 'AdBlockerReasons',\n",
       " 'AdsActions',\n",
       " 'ErgonomicDevices',\n",
       " 'Gender',\n",
       " 'SexualOrientation',\n",
       " 'RaceEthnicity']"
      ]
     },
     "execution_count": 443,
     "metadata": {},
     "output_type": "execute_result"
    }
   ],
   "source": [
    "#list of columns have multiple-choice on train_dataset\n",
    "mul_choices_cols_name"
   ]
  },
  {
   "cell_type": "code",
   "execution_count": 444,
   "metadata": {},
   "outputs": [],
   "source": [
    "#function for count the number of choices on each column\n",
    "def count_multiple_choice(text):\n",
    "    if type(text)==str:\n",
    "        return text.split(\";\")\n",
    "    else:\n",
    "        return []"
   ]
  },
  {
   "cell_type": "code",
   "execution_count": 445,
   "metadata": {},
   "outputs": [],
   "source": [
    "num_multiple_choice={}\n",
    "for i in mul_choices_cols_name:\n",
    "    flat_ls = list(train_data[i].apply(count_multiple_choice))\n",
    "    num_multiple_choice[i]=len(set(list(itertools.chain(*flat_ls))))"
   ]
  },
  {
   "cell_type": "code",
   "execution_count": 446,
   "metadata": {},
   "outputs": [],
   "source": [
    "#display the number of choice on columns\n",
    "#frame_num_choice = pd.DataFrame(num_multiple_choice.items(),columns=['Feature names','Number of choice']).sort_values('Number of choice',ascending=False)\n",
    "#frame_num_choice"
   ]
  },
  {
   "cell_type": "markdown",
   "metadata": {},
   "source": [
    "#### Encode multiple-choices to one-hot"
   ]
  },
  {
   "cell_type": "code",
   "execution_count": 447,
   "metadata": {},
   "outputs": [],
   "source": [
    "#function for encoding multiple-choice to one hot\n",
    "def encode(ls,ref):\n",
    "    ini_vec = np.zeros((len(ref)))\n",
    "    ini_ls=[]\n",
    "    for i in ls:\n",
    "        ini_ls.append(ref.index(i))\n",
    "    ini_vec[ini_ls]=1\n",
    "    return ini_vec.astype('int')"
   ]
  },
  {
   "cell_type": "code",
   "execution_count": 448,
   "metadata": {},
   "outputs": [],
   "source": [
    "#apply the function to handle multiple-choices columns\n",
    "ls_v4_train=[]\n",
    "ls_v4_test=[]\n",
    "ls_v2=[]\n",
    "for c in mul_choices_cols_name:\n",
    "    \n",
    "    v1_train = train_data[c].apply(count_multiple_choice) #series\n",
    "    v1_test = test_data[c].apply(count_multiple_choice) \n",
    "    \n",
    "    v2 = list(set(list(itertools.chain(*v1_train)))) #list of unique of multiple-choices\n",
    "    v3_train = v1_train.apply(encode,ref=v2) #numpy array\n",
    "    v3_test = v1_test.apply(encode,ref=v2)\n",
    "    \n",
    "    v4_train = np.concatenate(v3_train.values).reshape(-1,len(v2))\n",
    "    v4_test = np.concatenate(v3_test.values).reshape(-1,len(v2))\n",
    "    ls_v4_train.append(v4_train)\n",
    "    ls_v4_test.append(v4_test)\n",
    "    ls_v2.append(v2)\n",
    "v5_train = np.concatenate(ls_v4_train,axis=1)\n",
    "v5_test = np.concatenate(ls_v4_test,axis=1)\n",
    "v6 = list(itertools.chain(*ls_v2))\n",
    "multi_choice_dataset_train = pd.DataFrame(v5_train,columns = v6)\n",
    "multi_choice_dataset_test = pd.DataFrame(v5_test,columns = v6)"
   ]
  },
  {
   "cell_type": "code",
   "execution_count": 449,
   "metadata": {},
   "outputs": [
    {
     "data": {
      "text/plain": [
       "0    Back-end developer;Front-end developer;Full-st...\n",
       "1    Back-end developer;Database administrator;DevO...\n",
       "2             Front-end developer;Full-stack developer\n",
       "3                                   Back-end developer\n",
       "4    Front-end developer;Full-stack developer;Mobil...\n",
       "Name: DevType, dtype: object"
      ]
     },
     "execution_count": 449,
     "metadata": {},
     "output_type": "execute_result"
    }
   ],
   "source": [
    "test_data['DevType'].head(5)"
   ]
  },
  {
   "cell_type": "code",
   "execution_count": 450,
   "metadata": {},
   "outputs": [
    {
     "data": {
      "text/html": [
       "<div>\n",
       "<style scoped>\n",
       "    .dataframe tbody tr th:only-of-type {\n",
       "        vertical-align: middle;\n",
       "    }\n",
       "\n",
       "    .dataframe tbody tr th {\n",
       "        vertical-align: top;\n",
       "    }\n",
       "\n",
       "    .dataframe thead th {\n",
       "        text-align: right;\n",
       "    }\n",
       "</style>\n",
       "<table border=\"1\" class=\"dataframe\">\n",
       "  <thead>\n",
       "    <tr style=\"text-align: right;\">\n",
       "      <th></th>\n",
       "      <th>Embedded applications or devices developer</th>\n",
       "      <th>System administrator</th>\n",
       "      <th>Full-stack developer</th>\n",
       "      <th>Back-end developer</th>\n",
       "      <th>Game or graphics developer</th>\n",
       "      <th>QA or test developer</th>\n",
       "      <th>Student</th>\n",
       "      <th>Data scientist or machine learning specialist</th>\n",
       "      <th>DevOps specialist</th>\n",
       "      <th>Designer</th>\n",
       "      <th>Data or business analyst</th>\n",
       "      <th>Database administrator</th>\n",
       "      <th>Product manager</th>\n",
       "      <th>Marketing or sales professional</th>\n",
       "      <th>C-suite executive (CEO, CTO, etc.)</th>\n",
       "      <th>Engineering manager</th>\n",
       "      <th>Front-end developer</th>\n",
       "      <th>Educator or academic researcher</th>\n",
       "      <th>Mobile developer</th>\n",
       "      <th>Desktop or enterprise applications developer</th>\n",
       "    </tr>\n",
       "  </thead>\n",
       "  <tbody>\n",
       "    <tr>\n",
       "      <th>0</th>\n",
       "      <td>0</td>\n",
       "      <td>0</td>\n",
       "      <td>1</td>\n",
       "      <td>0</td>\n",
       "      <td>0</td>\n",
       "      <td>0</td>\n",
       "      <td>0</td>\n",
       "      <td>0</td>\n",
       "      <td>0</td>\n",
       "      <td>1</td>\n",
       "      <td>0</td>\n",
       "      <td>1</td>\n",
       "      <td>0</td>\n",
       "      <td>0</td>\n",
       "      <td>0</td>\n",
       "      <td>0</td>\n",
       "      <td>0</td>\n",
       "      <td>0</td>\n",
       "      <td>0</td>\n",
       "      <td>0</td>\n",
       "    </tr>\n",
       "    <tr>\n",
       "      <th>1</th>\n",
       "      <td>0</td>\n",
       "      <td>0</td>\n",
       "      <td>0</td>\n",
       "      <td>1</td>\n",
       "      <td>0</td>\n",
       "      <td>0</td>\n",
       "      <td>0</td>\n",
       "      <td>0</td>\n",
       "      <td>0</td>\n",
       "      <td>0</td>\n",
       "      <td>0</td>\n",
       "      <td>0</td>\n",
       "      <td>0</td>\n",
       "      <td>0</td>\n",
       "      <td>0</td>\n",
       "      <td>0</td>\n",
       "      <td>0</td>\n",
       "      <td>0</td>\n",
       "      <td>0</td>\n",
       "      <td>0</td>\n",
       "    </tr>\n",
       "    <tr>\n",
       "      <th>2</th>\n",
       "      <td>0</td>\n",
       "      <td>0</td>\n",
       "      <td>1</td>\n",
       "      <td>0</td>\n",
       "      <td>0</td>\n",
       "      <td>0</td>\n",
       "      <td>0</td>\n",
       "      <td>0</td>\n",
       "      <td>0</td>\n",
       "      <td>1</td>\n",
       "      <td>0</td>\n",
       "      <td>0</td>\n",
       "      <td>0</td>\n",
       "      <td>0</td>\n",
       "      <td>0</td>\n",
       "      <td>0</td>\n",
       "      <td>0</td>\n",
       "      <td>0</td>\n",
       "      <td>0</td>\n",
       "      <td>0</td>\n",
       "    </tr>\n",
       "    <tr>\n",
       "      <th>3</th>\n",
       "      <td>1</td>\n",
       "      <td>1</td>\n",
       "      <td>0</td>\n",
       "      <td>1</td>\n",
       "      <td>0</td>\n",
       "      <td>0</td>\n",
       "      <td>0</td>\n",
       "      <td>0</td>\n",
       "      <td>1</td>\n",
       "      <td>0</td>\n",
       "      <td>0</td>\n",
       "      <td>0</td>\n",
       "      <td>0</td>\n",
       "      <td>0</td>\n",
       "      <td>0</td>\n",
       "      <td>0</td>\n",
       "      <td>0</td>\n",
       "      <td>0</td>\n",
       "      <td>0</td>\n",
       "      <td>1</td>\n",
       "    </tr>\n",
       "    <tr>\n",
       "      <th>4</th>\n",
       "      <td>0</td>\n",
       "      <td>0</td>\n",
       "      <td>0</td>\n",
       "      <td>1</td>\n",
       "      <td>1</td>\n",
       "      <td>0</td>\n",
       "      <td>0</td>\n",
       "      <td>0</td>\n",
       "      <td>0</td>\n",
       "      <td>0</td>\n",
       "      <td>0</td>\n",
       "      <td>0</td>\n",
       "      <td>0</td>\n",
       "      <td>0</td>\n",
       "      <td>0</td>\n",
       "      <td>0</td>\n",
       "      <td>0</td>\n",
       "      <td>0</td>\n",
       "      <td>0</td>\n",
       "      <td>0</td>\n",
       "    </tr>\n",
       "  </tbody>\n",
       "</table>\n",
       "</div>"
      ],
      "text/plain": [
       "   Embedded applications or devices developer  System administrator  \\\n",
       "0                                           0                     0   \n",
       "1                                           0                     0   \n",
       "2                                           0                     0   \n",
       "3                                           1                     1   \n",
       "4                                           0                     0   \n",
       "\n",
       "   Full-stack developer  Back-end developer  Game or graphics developer  \\\n",
       "0                     1                   0                           0   \n",
       "1                     0                   1                           0   \n",
       "2                     1                   0                           0   \n",
       "3                     0                   1                           0   \n",
       "4                     0                   1                           1   \n",
       "\n",
       "   QA or test developer  Student  \\\n",
       "0                     0        0   \n",
       "1                     0        0   \n",
       "2                     0        0   \n",
       "3                     0        0   \n",
       "4                     0        0   \n",
       "\n",
       "   Data scientist or machine learning specialist  DevOps specialist  Designer  \\\n",
       "0                                              0                  0         1   \n",
       "1                                              0                  0         0   \n",
       "2                                              0                  0         1   \n",
       "3                                              0                  1         0   \n",
       "4                                              0                  0         0   \n",
       "\n",
       "   Data or business analyst  Database administrator  Product manager  \\\n",
       "0                         0                       1                0   \n",
       "1                         0                       0                0   \n",
       "2                         0                       0                0   \n",
       "3                         0                       0                0   \n",
       "4                         0                       0                0   \n",
       "\n",
       "   Marketing or sales professional  C-suite executive (CEO, CTO, etc.)  \\\n",
       "0                                0                                   0   \n",
       "1                                0                                   0   \n",
       "2                                0                                   0   \n",
       "3                                0                                   0   \n",
       "4                                0                                   0   \n",
       "\n",
       "   Engineering manager  Front-end developer  Educator or academic researcher  \\\n",
       "0                    0                    0                                0   \n",
       "1                    0                    0                                0   \n",
       "2                    0                    0                                0   \n",
       "3                    0                    0                                0   \n",
       "4                    0                    0                                0   \n",
       "\n",
       "   Mobile developer  Desktop or enterprise applications developer  \n",
       "0                 0                                             0  \n",
       "1                 0                                             0  \n",
       "2                 0                                             0  \n",
       "3                 0                                             1  \n",
       "4                 0                                             0  "
      ]
     },
     "execution_count": 450,
     "metadata": {},
     "output_type": "execute_result"
    }
   ],
   "source": [
    "multi_choice_dataset_train.iloc[:5,:20]"
   ]
  },
  {
   "cell_type": "code",
   "execution_count": 451,
   "metadata": {},
   "outputs": [
    {
     "name": "stdout",
     "output_type": "stream",
     "text": [
      "Training multiple-choices dataset shape:  (33171, 320)\n",
      "Testing multiple-choices dataset shape:  (11259, 320)\n"
     ]
    }
   ],
   "source": [
    "print('Training multiple-choices dataset shape: ', multi_choice_dataset_train.shape)\n",
    "print('Testing multiple-choices dataset shape: ', multi_choice_dataset_test.shape)"
   ]
  },
  {
   "cell_type": "markdown",
   "metadata": {},
   "source": [
    "### Categorical \"option-choices\" columns type"
   ]
  },
  {
   "cell_type": "code",
   "execution_count": 452,
   "metadata": {},
   "outputs": [],
   "source": [
    "option_choices_cols_name=[col for col in categorical_cols_name if col not in mul_choices_cols_name]"
   ]
  },
  {
   "cell_type": "code",
   "execution_count": 453,
   "metadata": {},
   "outputs": [
    {
     "data": {
      "text/plain": [
       "['Hobby',\n",
       " 'OpenSource',\n",
       " 'Country',\n",
       " 'Student',\n",
       " 'Employment',\n",
       " 'FormalEducation',\n",
       " 'UndergradMajor',\n",
       " 'CompanySize',\n",
       " 'YearsCoding',\n",
       " 'YearsCodingProf',\n",
       " 'JobSatisfaction',\n",
       " 'CareerSatisfaction',\n",
       " 'HopeFiveYears',\n",
       " 'JobSearchStatus',\n",
       " 'LastNewJob',\n",
       " 'UpdateCV',\n",
       " 'Currency',\n",
       " 'SalaryType',\n",
       " 'CurrencySymbol',\n",
       " 'TimeFullyProductive',\n",
       " 'AgreeDisagree1',\n",
       " 'AgreeDisagree2',\n",
       " 'AgreeDisagree3',\n",
       " 'OperatingSystem',\n",
       " 'NumberMonitors',\n",
       " 'CheckInCode',\n",
       " 'AdBlocker',\n",
       " 'AdBlockerDisable',\n",
       " 'AdsAgreeDisagree1',\n",
       " 'AdsAgreeDisagree2',\n",
       " 'AdsAgreeDisagree3',\n",
       " 'AIDangerous',\n",
       " 'AIInteresting',\n",
       " 'AIResponsible',\n",
       " 'AIFuture',\n",
       " 'EthicsChoice',\n",
       " 'EthicsReport',\n",
       " 'EthicsResponsible',\n",
       " 'EthicalImplications',\n",
       " 'StackOverflowRecommend',\n",
       " 'StackOverflowVisit',\n",
       " 'StackOverflowHasAccount',\n",
       " 'StackOverflowParticipate',\n",
       " 'StackOverflowJobs',\n",
       " 'StackOverflowDevStory',\n",
       " 'StackOverflowJobsRecommend',\n",
       " 'StackOverflowConsiderMember',\n",
       " 'HypotheticalTools1',\n",
       " 'HypotheticalTools2',\n",
       " 'HypotheticalTools3',\n",
       " 'HypotheticalTools4',\n",
       " 'HypotheticalTools5',\n",
       " 'WakeTime',\n",
       " 'HoursComputer',\n",
       " 'HoursOutside',\n",
       " 'SkipMeals',\n",
       " 'Exercise',\n",
       " 'EducationParents',\n",
       " 'Age',\n",
       " 'Dependents',\n",
       " 'MilitaryUS',\n",
       " 'SurveyTooLong',\n",
       " 'SurveyEasy']"
      ]
     },
     "execution_count": 453,
     "metadata": {},
     "output_type": "execute_result"
    }
   ],
   "source": [
    "option_choices_cols_name"
   ]
  },
  {
   "cell_type": "code",
   "execution_count": 454,
   "metadata": {},
   "outputs": [],
   "source": [
    "#impute missing value by majority class\n",
    "imputer = SimpleImputer(missing_values=np.nan,strategy='most_frequent')\n",
    "train_data_arr = imputer.fit_transform(train_data[option_choices_cols_name])\n",
    "test_data_arr = imputer.transform(test_data[option_choices_cols_name])"
   ]
  },
  {
   "cell_type": "code",
   "execution_count": 455,
   "metadata": {},
   "outputs": [],
   "source": [
    "option_choices_dataset_train = pd.DataFrame(train_data_arr,columns=option_choices_cols_name)\n",
    "option_choices_dataset_test = pd.DataFrame(test_data_arr,columns=option_choices_cols_name)"
   ]
  },
  {
   "cell_type": "markdown",
   "metadata": {},
   "source": [
    "#### Encode option-choices to one-hot columns"
   ]
  },
  {
   "cell_type": "code",
   "execution_count": 456,
   "metadata": {},
   "outputs": [
    {
     "name": "stdout",
     "output_type": "stream",
     "text": [
      "4 columns were label encoded.\n"
     ]
    }
   ],
   "source": [
    "# Create a label encoder for option columns\n",
    "le = LabelEncoder()\n",
    "le_count = 0\n",
    "\n",
    "# Iterate through the columns\n",
    "for col in option_choices_cols_name:\n",
    "    # If 2 or fewer unique categories\n",
    "    if len(list(option_choices_dataset_train[col].unique())) <= 2:\n",
    "        # Train on the training data\n",
    "        le.fit(option_choices_dataset_train[col])\n",
    "        # Transform both training and testing data\n",
    "        option_choices_dataset_train[col] = le.transform(option_choices_dataset_train[col])\n",
    "        option_choices_dataset_test[col] = le.transform(option_choices_dataset_test[col])    \n",
    "        # Keep track of how many columns were label encoded\n",
    "        le_count += 1\n",
    "            \n",
    "print('%d columns were label encoded.' % le_count)"
   ]
  },
  {
   "cell_type": "code",
   "execution_count": 457,
   "metadata": {},
   "outputs": [
    {
     "data": {
      "text/plain": [
       "(33171, 587)"
      ]
     },
     "execution_count": 457,
     "metadata": {},
     "output_type": "execute_result"
    }
   ],
   "source": [
    "#one-hot encode for train_data\n",
    "option_choices_dataset_train = pd.get_dummies(option_choices_dataset_train)\n",
    "option_choices_dataset_train.shape"
   ]
  },
  {
   "cell_type": "code",
   "execution_count": 458,
   "metadata": {},
   "outputs": [
    {
     "data": {
      "text/plain": [
       "(11259, 547)"
      ]
     },
     "execution_count": 458,
     "metadata": {},
     "output_type": "execute_result"
    }
   ],
   "source": [
    "#one-hot encode for test_data\n",
    "option_choices_dataset_test = pd.get_dummies(option_choices_dataset_test)\n",
    "option_choices_dataset_test.shape"
   ]
  },
  {
   "cell_type": "code",
   "execution_count": 459,
   "metadata": {},
   "outputs": [
    {
     "name": "stdout",
     "output_type": "stream",
     "text": [
      "Training option-choices dataset shape:  (33171, 537)\n",
      "Testing option-choices dataset shape:  (11259, 537)\n"
     ]
    }
   ],
   "source": [
    "#Align the training and testing data, keep only columns present in both dataframes\n",
    "option_choices_dataset_train, option_choices_dataset_test = option_choices_dataset_train.align(option_choices_dataset_test, join = 'inner', axis = 1)\n",
    "print('Training option-choices dataset shape: ', option_choices_dataset_train.shape)\n",
    "print('Testing option-choices dataset shape: ', option_choices_dataset_test.shape)"
   ]
  },
  {
   "cell_type": "markdown",
   "metadata": {},
   "source": [
    "### Concate all dataframe"
   ]
  },
  {
   "cell_type": "code",
   "execution_count": 460,
   "metadata": {},
   "outputs": [],
   "source": [
    "#float_dataset_train,\n",
    "train_dataset = pd.concat([float_dataset_train,multi_choice_dataset_train,option_choices_dataset_train],axis=1)"
   ]
  },
  {
   "cell_type": "code",
   "execution_count": 461,
   "metadata": {},
   "outputs": [],
   "source": [
    "#float_dataset_test,\n",
    "test_dataset = pd.concat([float_dataset_test,multi_choice_dataset_test,option_choices_dataset_test],axis=1)"
   ]
  },
  {
   "cell_type": "code",
   "execution_count": 462,
   "metadata": {},
   "outputs": [
    {
     "name": "stdout",
     "output_type": "stream",
     "text": [
      "Training dataset shape:  (33171, 923)\n",
      "Testing dataset shape:  (11259, 923)\n"
     ]
    }
   ],
   "source": [
    "print('Training dataset shape: ', train_dataset.shape)\n",
    "#print('Training label shape: ', y_train.shape)\n",
    "print('Testing dataset shape: ', test_dataset.shape)"
   ]
  },
  {
   "cell_type": "markdown",
   "metadata": {},
   "source": [
    "# Modeling"
   ]
  },
  {
   "cell_type": "code",
   "execution_count": 463,
   "metadata": {},
   "outputs": [],
   "source": [
    "from sklearn.utils.validation import column_or_1d"
   ]
  },
  {
   "cell_type": "code",
   "execution_count": 464,
   "metadata": {},
   "outputs": [],
   "source": [
    "X_train= train_dataset\n",
    "y_train= target.astype(int)\n",
    "X_test= test_dataset"
   ]
  },
  {
   "cell_type": "code",
   "execution_count": 465,
   "metadata": {},
   "outputs": [
    {
     "data": {
      "text/plain": [
       "dtype('int32')"
      ]
     },
     "execution_count": 465,
     "metadata": {},
     "output_type": "execute_result"
    }
   ],
   "source": [
    "y_train.dtype"
   ]
  },
  {
   "cell_type": "code",
   "execution_count": 466,
   "metadata": {},
   "outputs": [],
   "source": [
    "import re\n",
    "X_train = X_train.rename(columns = lambda x:re.sub('[^A-Za-z0-9_]+', '', x))\n",
    "X_test = X_test.rename(columns = lambda x:re.sub('[^A-Za-z0-9_]+', '', x))"
   ]
  },
  {
   "cell_type": "markdown",
   "metadata": {},
   "source": [
    "### Split training set to validation set"
   ]
  },
  {
   "cell_type": "code",
   "execution_count": 467,
   "metadata": {},
   "outputs": [],
   "source": [
    "params = {\n",
    "    'objective'         : 'regression',    \n",
    "    'metric'            : 'l2', \n",
    "    'nthread'           : 4,\n",
    "    'learning_rate'     : 0.001,\n",
    "\n",
    "    'num_leaves'        : 23,\n",
    "    'feature_fraction'  : 0.106,\n",
    "    'bagging_fraction'  : 0.825,\n",
    "    'max_depth'         : -1,\n",
    "    'lambda_l1'         : 0.1,\n",
    "    'lambda_l2'         : 2.5,\n",
    "    'min_split_gain'    : 0.007,\n",
    "}\n",
    "\n",
    "# # Create parameters to search\n",
    "# gridParams = {\n",
    "#     'learning_rate': [0.005,0.0005],\n",
    "#     'num_leaves': [12,16,23,25],\n",
    "#     'lambda_l1' : [0.1,0.2,0.3],\n",
    "#     'lambda_l2' : [2.5,2.7,2.9],\n",
    "#     }\n",
    "\n",
    "# # Create REGRESSOR to use. Note that parameters have to be input manually\n",
    "# # not as a dict!\n",
    "# mdl = lgb.LGBMRegressor(\n",
    "#           objective = params['objective'],\n",
    "#           metric = params['metric'],\n",
    "#           nthread = params['nthread'],\n",
    "#           learning_rate = params['learning_rate'],\n",
    "#           num_leaves = params['num_leaves'],\n",
    "#           feature_fraction = params['feature_fraction'],\n",
    "#           bagging_fraction = params['bagging_fraction'],\n",
    "#           max_depth = params['max_depth'],\n",
    "#           lambda_l1 = params['lambda_l1'],\n",
    "#           lambda_l2 = params['lambda_l2'],\n",
    "#           min_split_gain = params['min_split_gain'])\n",
    "\n",
    "# # To view the default model params:\n",
    "# mdl.get_params().keys()\n",
    "\n",
    "# # Create the grid\n",
    "# grid = GridSearchCV(mdl, gridParams,\n",
    "#                     verbose=0,\n",
    "#                     cv=4,\n",
    "#                     n_jobs=2)\n",
    "\n",
    "# # Run the grid\n",
    "# grid.fit(X_train, y_train)\n",
    "\n",
    "# # Print the best parameters found\n",
    "# print(grid.best_params_)\n",
    "# print(grid.best_score_)\n",
    "\n",
    "# # Using parameters already set above, replace in the best from the grid search\n",
    "# params['learning_rate'] = grid.best_params_['learning_rate']\n",
    "# params['num_leaves'] = grid.best_params_['num_leaves']\n",
    "# params['lambda_l1'] = grid.best_params_['lambda_l1']\n",
    "# params['lambda_l2'] = grid.best_params_['lambda_l2']\n",
    "# # params['subsample_for_bin'] = grid.best_params_['subsample_for_bin']\n",
    "\n",
    "# print('Fitting with params: ')\n",
    "# print(params)"
   ]
  },
  {
   "cell_type": "code",
   "execution_count": 468,
   "metadata": {},
   "outputs": [
    {
     "name": "stderr",
     "output_type": "stream",
     "text": [
      "c:\\users\\gobiz\\appdata\\local\\programs\\python\\python37\\lib\\site-packages\\sklearn\\model_selection\\_split.py:672: UserWarning: The least populated class in y has only 1 members, which is less than n_splits=4.\n",
      "  % (min_groups, self.n_splits)), UserWarning)\n"
     ]
    }
   ],
   "source": [
    "skf = StratifiedKFold(n_splits=4, random_state=3462873, shuffle=True)\n",
    "preds = 0.0\n",
    "for itrain, ivalid in skf.split(X_train, y_train):\n",
    "    lgb_train = lgb.Dataset(X_train.iloc[itrain], y_train.iloc[itrain])\n",
    "    lgb_eval  = lgb.Dataset(X_train.iloc[ivalid], y_train.iloc[ivalid], reference = lgb_train)\n",
    "    model = lgb.train(params,\n",
    "                lgb_train,\n",
    "                num_boost_round = 999999,  \n",
    "                early_stopping_rounds = 800,\n",
    "                verbose_eval = False,\n",
    "                valid_sets = [lgb_train, lgb_eval])\n",
    "    pred = model.predict(X_test)\n",
    "    preds += pred/skf.n_splits"
   ]
  },
  {
   "cell_type": "markdown",
   "metadata": {},
   "source": [
    "# Submit"
   ]
  },
  {
   "cell_type": "code",
   "execution_count": 469,
   "metadata": {},
   "outputs": [],
   "source": [
    "def to_submit_file(file_name, probs):\n",
    "    \"\"\"\n",
    "    A helper function helps generating submit files\n",
    "    \n",
    "    :param file_name: submit file name\n",
    "    :param probs: list of probabilities for test samples\n",
    "    \n",
    "    :return: None\n",
    "    \"\"\"\n",
    "    submit = test_id.copy()\n",
    "    submit['Salary'] = probs\n",
    "    submit.to_csv(file_name, index = False)\n",
    "    print ('Done writting submit file: ', file_name)"
   ]
  },
  {
   "cell_type": "code",
   "execution_count": 470,
   "metadata": {},
   "outputs": [],
   "source": [
    "test_id = pd.read_csv('data_all/submit.csv')"
   ]
  },
  {
   "cell_type": "code",
   "execution_count": 471,
   "metadata": {},
   "outputs": [],
   "source": [
    "y_pred = preds"
   ]
  },
  {
   "cell_type": "code",
   "execution_count": 472,
   "metadata": {},
   "outputs": [
    {
     "name": "stdout",
     "output_type": "stream",
     "text": [
      "Done writting submit file:  submitfile.csv\n"
     ]
    }
   ],
   "source": [
    "to_submit_file('submitfile.csv',y_pred)"
   ]
  },
  {
   "cell_type": "code",
   "execution_count": null,
   "metadata": {},
   "outputs": [],
   "source": []
  }
 ],
 "metadata": {
  "kernelspec": {
   "display_name": "Python 3",
   "language": "python",
   "name": "python3"
  },
  "language_info": {
   "codemirror_mode": {
    "name": "ipython",
    "version": 3
   },
   "file_extension": ".py",
   "mimetype": "text/x-python",
   "name": "python",
   "nbconvert_exporter": "python",
   "pygments_lexer": "ipython3",
   "version": "3.7.7"
  }
 },
 "nbformat": 4,
 "nbformat_minor": 4
}
